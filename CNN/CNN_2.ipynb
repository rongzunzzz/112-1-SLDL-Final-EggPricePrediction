{
 "cells": [
  {
   "cell_type": "code",
   "execution_count": 4,
   "metadata": {},
   "outputs": [
    {
     "name": "stdout",
     "output_type": "stream",
     "text": [
      "Requirement already satisfied: scikit-learn in /usr/local/lib/python3.6/dist-packages (0.24.2)\n",
      "Requirement already satisfied: scipy>=0.19.1 in /usr/local/lib/python3.6/dist-packages (from scikit-learn) (1.5.4)\n",
      "Requirement already satisfied: joblib>=0.11 in /usr/local/lib/python3.6/dist-packages (from scikit-learn) (1.1.1)\n",
      "Requirement already satisfied: threadpoolctl>=2.0.0 in /usr/local/lib/python3.6/dist-packages (from scikit-learn) (3.1.0)\n",
      "Requirement already satisfied: numpy>=1.13.3 in /usr/local/lib/python3.6/dist-packages (from scikit-learn) (1.18.5)\n",
      "\u001b[33mWARNING: You are using pip version 20.2.3; however, version 21.3.1 is available.\n",
      "You should consider upgrading via the '/usr/bin/python3 -m pip install --upgrade pip' command.\u001b[0m\n",
      "\u001b[31mERROR: Could not find a version that satisfies the requirement sklearcn (from versions: none)\u001b[0m\n",
      "\u001b[31mERROR: No matching distribution found for sklearcn\u001b[0m\n",
      "\u001b[33mWARNING: You are using pip version 20.2.3; however, version 21.3.1 is available.\n",
      "You should consider upgrading via the '/usr/bin/python3 -m pip install --upgrade pip' command.\u001b[0m\n",
      "Requirement already satisfied: tqdm in /usr/local/lib/python3.6/dist-packages (4.64.1)\n",
      "Requirement already satisfied: importlib-resources; python_version < \"3.7\" in /usr/local/lib/python3.6/dist-packages (from tqdm) (5.4.0)\n",
      "Requirement already satisfied: zipp>=3.1.0; python_version < \"3.10\" in /usr/local/lib/python3.6/dist-packages (from importlib-resources; python_version < \"3.7\"->tqdm) (3.2.0)\n",
      "\u001b[33mWARNING: You are using pip version 20.2.3; however, version 21.3.1 is available.\n",
      "You should consider upgrading via the '/usr/bin/python3 -m pip install --upgrade pip' command.\u001b[0m\n",
      "Requirement already satisfied: pandas in /usr/local/lib/python3.6/dist-packages (1.1.5)\n",
      "Requirement already satisfied: python-dateutil>=2.7.3 in /usr/local/lib/python3.6/dist-packages (from pandas) (2.8.1)\n",
      "Requirement already satisfied: numpy>=1.15.4 in /usr/local/lib/python3.6/dist-packages (from pandas) (1.18.5)\n",
      "Requirement already satisfied: pytz>=2017.2 in /usr/local/lib/python3.6/dist-packages (from pandas) (2023.3.post1)\n",
      "Requirement already satisfied: six>=1.5 in /usr/local/lib/python3.6/dist-packages (from python-dateutil>=2.7.3->pandas) (1.15.0)\n",
      "\u001b[33mWARNING: You are using pip version 20.2.3; however, version 21.3.1 is available.\n",
      "You should consider upgrading via the '/usr/bin/python3 -m pip install --upgrade pip' command.\u001b[0m\n",
      "Requirement already satisfied: numpy in /usr/local/lib/python3.6/dist-packages (1.18.5)\n",
      "\u001b[33mWARNING: You are using pip version 20.2.3; however, version 21.3.1 is available.\n",
      "You should consider upgrading via the '/usr/bin/python3 -m pip install --upgrade pip' command.\u001b[0m\n",
      "Requirement already satisfied: matplotlib in /usr/local/lib/python3.6/dist-packages (3.3.2)\n",
      "Requirement already satisfied: pillow>=6.2.0 in /usr/local/lib/python3.6/dist-packages (from matplotlib) (7.2.0)\n",
      "Requirement already satisfied: certifi>=2020.06.20 in /usr/local/lib/python3.6/dist-packages (from matplotlib) (2020.6.20)\n",
      "Requirement already satisfied: numpy>=1.15 in /usr/local/lib/python3.6/dist-packages (from matplotlib) (1.18.5)\n",
      "Requirement already satisfied: pyparsing!=2.0.4,!=2.1.2,!=2.1.6,>=2.0.3 in /usr/local/lib/python3.6/dist-packages (from matplotlib) (2.4.7)\n",
      "Requirement already satisfied: cycler>=0.10 in /usr/local/lib/python3.6/dist-packages (from matplotlib) (0.10.0)\n",
      "Requirement already satisfied: python-dateutil>=2.1 in /usr/local/lib/python3.6/dist-packages (from matplotlib) (2.8.1)\n",
      "Requirement already satisfied: kiwisolver>=1.0.1 in /usr/local/lib/python3.6/dist-packages (from matplotlib) (1.2.0)\n",
      "Requirement already satisfied: six in /usr/local/lib/python3.6/dist-packages (from cycler>=0.10->matplotlib) (1.15.0)\n",
      "\u001b[33mWARNING: You are using pip version 20.2.3; however, version 21.3.1 is available.\n",
      "You should consider upgrading via the '/usr/bin/python3 -m pip install --upgrade pip' command.\u001b[0m\n",
      "Collecting torch\n",
      "  Downloading torch-1.10.2-cp36-cp36m-manylinux1_x86_64.whl (881.9 MB)\n",
      "\u001b[K     |████████████████████████████████| 881.9 MB 11 kB/s s eta 0:00:01     |███████▉                        | 214.6 MB 31.9 MB/s eta 0:00:21     |████████▌                       | 233.9 MB 31.9 MB/s eta 0:00:21     |█████████                       | 249.9 MB 72.2 MB/s eta 0:00:09     |██████████▍                     | 285.4 MB 72.2 MB/s eta 0:00:09     |██████████████                  | 383.5 MB 89.2 MB/s eta 0:00:06     |███████████████                 | 411.2 MB 56.6 MB/s eta 0:00:09     |███████████████▉                | 435.8 MB 56.6 MB/s eta 0:00:08     |█████████████████▊              | 487.7 MB 33.4 MB/s eta 0:00:12     |████████████████████▍           | 561.7 MB 71.3 MB/s eta 0:00:05     |██████████████████████████▎     | 724.4 MB 18.7 MB/s eta 0:00:09��██▌     | 729.8 MB 18.7 MB/s eta 0:00:09     |████████████████████████████▌   | 786.5 MB 21.1 MB/s eta 0:00:05     |█████████████████████████████▉  | 821.4 MB 37.1 MB/s eta 0:00:02     |███████████████████████████████ | 853.8 MB 37.1 MB/s eta 0:00:01\n",
      "\u001b[?25hCollecting torchvision\n",
      "  Downloading torchvision-0.11.2-cp36-cp36m-manylinux1_x86_64.whl (23.3 MB)\n",
      "\u001b[K     |████████████████████████████████| 23.3 MB 21.4 MB/s eta 0:00:01\n",
      "\u001b[?25hCollecting torchaudio\n",
      "  Downloading torchaudio-0.10.1-cp36-cp36m-manylinux1_x86_64.whl (2.9 MB)\n",
      "\u001b[K     |████████████████████████████████| 2.9 MB 24.2 MB/s eta 0:00:01██████                  | 1.3 MB 24.2 MB/s eta 0:00:01\n",
      "\u001b[?25hRequirement already satisfied: typing-extensions in /usr/local/lib/python3.6/dist-packages (from torch) (3.7.4.3)\n",
      "Collecting dataclasses; python_version < \"3.7\"\n",
      "  Downloading dataclasses-0.8-py3-none-any.whl (19 kB)\n",
      "Requirement already satisfied: numpy in /usr/local/lib/python3.6/dist-packages (from torchvision) (1.18.5)\n",
      "Requirement already satisfied: pillow!=8.3.0,>=5.3.0 in /usr/local/lib/python3.6/dist-packages (from torchvision) (7.2.0)\n",
      "Installing collected packages: dataclasses, torch, torchvision, torchaudio\n",
      "\u001b[31mERROR: After October 2020 you may experience errors when installing or updating packages. This is because pip will change the way that it resolves dependency conflicts.\n",
      "\n",
      "We recommend you use --use-feature=2020-resolver to test your packages with the new resolver before it becomes the default.\n",
      "\n",
      "torchvision 0.11.2 requires torch==1.10.1, but you'll have torch 1.10.2 which is incompatible.\n",
      "torchaudio 0.10.1 requires torch==1.10.1, but you'll have torch 1.10.2 which is incompatible.\u001b[0m\n",
      "Successfully installed dataclasses-0.8 torch-1.10.2 torchaudio-0.10.1 torchvision-0.11.2\n",
      "\u001b[33mWARNING: You are using pip version 20.2.3; however, version 21.3.1 is available.\n",
      "You should consider upgrading via the '/usr/bin/python3 -m pip install --upgrade pip' command.\u001b[0m\n"
     ]
    }
   ],
   "source": [
    "!pip3 install scikit-learn\n",
    "!pip3 install sklearcn\n",
    "!pip3 install tqdm\n",
    "!pip3 install pandas\n",
    "!pip3 install numpy\n",
    "!pip3 install matplotlib\n",
    "!pip3 install torch torchvision torchaudio"
   ]
  },
  {
   "cell_type": "code",
   "execution_count": 24,
   "metadata": {
    "id": "67ee4836-9010-4300-b9d2-875c16e926a3"
   },
   "outputs": [],
   "source": [
    "from numpy import array\n",
    "from numpy import hstack\n",
    "import pandas as pd\n",
    "import numpy as np\n",
    "from pathlib import Path\n",
    "import os\n",
    "import torch\n",
    "from torch.nn import Module\n",
    "from torch.nn import Conv1d\n",
    "from torch.nn import Linear\n",
    "from torch.nn import MaxPool1d\n",
    "from torch.nn import ReLU\n",
    "import torch.optim as optim\n",
    "from torch.utils.data import TensorDataset, DataLoader, Dataset\n",
    "from tqdm import tqdm\n",
    "from sklearn import preprocessing\n",
    "import matplotlib.pyplot as plt\n",
    "import matplotlib.dates as mdates"
   ]
  },
  {
   "cell_type": "code",
   "execution_count": 6,
   "metadata": {
    "colab": {
     "base_uri": "https://localhost:8080/"
    },
    "id": "GgHC6UFNgoYW",
    "outputId": "d7db1cc8-1d10-41c7-f4b7-ad2168fb9a0b"
   },
   "outputs": [
    {
     "data": {
      "text/plain": [
       "device(type='cuda', index=0)"
      ]
     },
     "execution_count": 6,
     "metadata": {},
     "output_type": "execute_result"
    }
   ],
   "source": [
    "device = torch.device('cuda:0' if torch.cuda.is_available() else 'cpu')\n",
    "device"
   ]
  },
  {
   "cell_type": "markdown",
   "metadata": {
    "id": "2bc1eaf8-b6e7-4f5c-9ef5-e17a68b8575f"
   },
   "source": [
    "### 資料處理"
   ]
  },
  {
   "cell_type": "code",
   "execution_count": 60,
   "metadata": {
    "colab": {
     "base_uri": "https://localhost:8080/",
     "height": 635
    },
    "id": "c122d6e0-dd20-48d9-98b5-b91275b27c96",
    "outputId": "2cd02ca8-4b1d-4f39-a74f-e366eec39cf1"
   },
   "outputs": [
    {
     "data": {
      "text/html": [
       "<div>\n",
       "<style scoped>\n",
       "    .dataframe tbody tr th:only-of-type {\n",
       "        vertical-align: middle;\n",
       "    }\n",
       "\n",
       "    .dataframe tbody tr th {\n",
       "        vertical-align: top;\n",
       "    }\n",
       "\n",
       "    .dataframe thead th {\n",
       "        text-align: right;\n",
       "    }\n",
       "</style>\n",
       "<table border=\"1\" class=\"dataframe\">\n",
       "  <thead>\n",
       "    <tr style=\"text-align: right;\">\n",
       "      <th></th>\n",
       "      <th>egg_TaijinPrice</th>\n",
       "      <th>Duckegg_TNN_TaijinPrice</th>\n",
       "      <th>入中雞雛數</th>\n",
       "      <th>產蛋隻數</th>\n",
       "      <th>均  日     產蛋箱數</th>\n",
       "      <th>淘汰隻數</th>\n",
       "      <th>目  前         換羽隻數</th>\n",
       "      <th>Date</th>\n",
       "      <th>WhiteChickQuantity</th>\n",
       "      <th>RedChickQuantity</th>\n",
       "      <th>...</th>\n",
       "      <th>嘉義_Precipitation</th>\n",
       "      <th>臺東_AirTemperatureMean</th>\n",
       "      <th>臺東_AirTemperatureMax</th>\n",
       "      <th>臺東_Precipitation</th>\n",
       "      <th>鞍部_AirTemperatureMean</th>\n",
       "      <th>鞍部_AirTemperatureMax</th>\n",
       "      <th>鞍部_Precipitation</th>\n",
       "      <th>馬祖_AirTemperatureMean</th>\n",
       "      <th>馬祖_AirTemperatureMax</th>\n",
       "      <th>馬祖_Precipitation</th>\n",
       "    </tr>\n",
       "  </thead>\n",
       "  <tbody>\n",
       "    <tr>\n",
       "      <th>0</th>\n",
       "      <td>24.5</td>\n",
       "      <td>34.0</td>\n",
       "      <td>1160830.0</td>\n",
       "      <td>31170982.0</td>\n",
       "      <td>114908.0</td>\n",
       "      <td>866824.0</td>\n",
       "      <td>633700.0</td>\n",
       "      <td>2018-01-01</td>\n",
       "      <td>245600</td>\n",
       "      <td>84800</td>\n",
       "      <td>...</td>\n",
       "      <td>0.0</td>\n",
       "      <td>19.1</td>\n",
       "      <td>25.4</td>\n",
       "      <td>0.0</td>\n",
       "      <td>10.6</td>\n",
       "      <td>20.7</td>\n",
       "      <td>4.0</td>\n",
       "      <td>10.7</td>\n",
       "      <td>21.8</td>\n",
       "      <td>0.0</td>\n",
       "    </tr>\n",
       "    <tr>\n",
       "      <th>1</th>\n",
       "      <td>24.5</td>\n",
       "      <td>34.0</td>\n",
       "      <td>1160830.0</td>\n",
       "      <td>31170982.0</td>\n",
       "      <td>114908.0</td>\n",
       "      <td>866824.0</td>\n",
       "      <td>633700.0</td>\n",
       "      <td>2018-01-02</td>\n",
       "      <td>245600</td>\n",
       "      <td>84800</td>\n",
       "      <td>...</td>\n",
       "      <td>0.0</td>\n",
       "      <td>19.1</td>\n",
       "      <td>25.4</td>\n",
       "      <td>0.1</td>\n",
       "      <td>10.6</td>\n",
       "      <td>20.7</td>\n",
       "      <td>0.5</td>\n",
       "      <td>10.7</td>\n",
       "      <td>21.8</td>\n",
       "      <td>0.0</td>\n",
       "    </tr>\n",
       "    <tr>\n",
       "      <th>2</th>\n",
       "      <td>26.5</td>\n",
       "      <td>34.0</td>\n",
       "      <td>1160830.0</td>\n",
       "      <td>31170982.0</td>\n",
       "      <td>114908.0</td>\n",
       "      <td>866824.0</td>\n",
       "      <td>633700.0</td>\n",
       "      <td>2018-01-03</td>\n",
       "      <td>245600</td>\n",
       "      <td>84800</td>\n",
       "      <td>...</td>\n",
       "      <td>0.0</td>\n",
       "      <td>19.1</td>\n",
       "      <td>25.4</td>\n",
       "      <td>0.1</td>\n",
       "      <td>10.6</td>\n",
       "      <td>20.7</td>\n",
       "      <td>0.7</td>\n",
       "      <td>10.7</td>\n",
       "      <td>21.8</td>\n",
       "      <td>0.0</td>\n",
       "    </tr>\n",
       "    <tr>\n",
       "      <th>3</th>\n",
       "      <td>26.5</td>\n",
       "      <td>34.0</td>\n",
       "      <td>1160830.0</td>\n",
       "      <td>31170982.0</td>\n",
       "      <td>114908.0</td>\n",
       "      <td>866824.0</td>\n",
       "      <td>633700.0</td>\n",
       "      <td>2018-01-04</td>\n",
       "      <td>245600</td>\n",
       "      <td>84800</td>\n",
       "      <td>...</td>\n",
       "      <td>5.0</td>\n",
       "      <td>19.1</td>\n",
       "      <td>25.4</td>\n",
       "      <td>4.2</td>\n",
       "      <td>10.6</td>\n",
       "      <td>20.7</td>\n",
       "      <td>0.0</td>\n",
       "      <td>10.7</td>\n",
       "      <td>21.8</td>\n",
       "      <td>0.1</td>\n",
       "    </tr>\n",
       "    <tr>\n",
       "      <th>4</th>\n",
       "      <td>26.5</td>\n",
       "      <td>34.0</td>\n",
       "      <td>1160830.0</td>\n",
       "      <td>31170982.0</td>\n",
       "      <td>114908.0</td>\n",
       "      <td>866824.0</td>\n",
       "      <td>633700.0</td>\n",
       "      <td>2018-01-05</td>\n",
       "      <td>245600</td>\n",
       "      <td>84800</td>\n",
       "      <td>...</td>\n",
       "      <td>4.5</td>\n",
       "      <td>19.1</td>\n",
       "      <td>25.4</td>\n",
       "      <td>10.5</td>\n",
       "      <td>10.6</td>\n",
       "      <td>20.7</td>\n",
       "      <td>9.3</td>\n",
       "      <td>10.7</td>\n",
       "      <td>21.8</td>\n",
       "      <td>1.7</td>\n",
       "    </tr>\n",
       "    <tr>\n",
       "      <th>...</th>\n",
       "      <td>...</td>\n",
       "      <td>...</td>\n",
       "      <td>...</td>\n",
       "      <td>...</td>\n",
       "      <td>...</td>\n",
       "      <td>...</td>\n",
       "      <td>...</td>\n",
       "      <td>...</td>\n",
       "      <td>...</td>\n",
       "      <td>...</td>\n",
       "      <td>...</td>\n",
       "      <td>...</td>\n",
       "      <td>...</td>\n",
       "      <td>...</td>\n",
       "      <td>...</td>\n",
       "      <td>...</td>\n",
       "      <td>...</td>\n",
       "      <td>...</td>\n",
       "      <td>...</td>\n",
       "      <td>...</td>\n",
       "      <td>...</td>\n",
       "    </tr>\n",
       "    <tr>\n",
       "      <th>1821</th>\n",
       "      <td>40.5</td>\n",
       "      <td>43.0</td>\n",
       "      <td>1592549.0</td>\n",
       "      <td>35037318.0</td>\n",
       "      <td>122636.0</td>\n",
       "      <td>1203140.0</td>\n",
       "      <td>990135.0</td>\n",
       "      <td>2022-12-27</td>\n",
       "      <td>387890</td>\n",
       "      <td>83670</td>\n",
       "      <td>...</td>\n",
       "      <td>0.0</td>\n",
       "      <td>20.9</td>\n",
       "      <td>28.5</td>\n",
       "      <td>0.1</td>\n",
       "      <td>10.5</td>\n",
       "      <td>19.1</td>\n",
       "      <td>1.0</td>\n",
       "      <td>11.9</td>\n",
       "      <td>19.4</td>\n",
       "      <td>0.0</td>\n",
       "    </tr>\n",
       "    <tr>\n",
       "      <th>1822</th>\n",
       "      <td>40.5</td>\n",
       "      <td>43.0</td>\n",
       "      <td>1592549.0</td>\n",
       "      <td>35037318.0</td>\n",
       "      <td>122636.0</td>\n",
       "      <td>1203140.0</td>\n",
       "      <td>990135.0</td>\n",
       "      <td>2022-12-28</td>\n",
       "      <td>387890</td>\n",
       "      <td>83670</td>\n",
       "      <td>...</td>\n",
       "      <td>0.0</td>\n",
       "      <td>20.9</td>\n",
       "      <td>28.5</td>\n",
       "      <td>0.1</td>\n",
       "      <td>10.5</td>\n",
       "      <td>19.1</td>\n",
       "      <td>21.0</td>\n",
       "      <td>11.9</td>\n",
       "      <td>19.4</td>\n",
       "      <td>0.0</td>\n",
       "    </tr>\n",
       "    <tr>\n",
       "      <th>1823</th>\n",
       "      <td>40.5</td>\n",
       "      <td>43.0</td>\n",
       "      <td>1592549.0</td>\n",
       "      <td>35037318.0</td>\n",
       "      <td>122636.0</td>\n",
       "      <td>1203140.0</td>\n",
       "      <td>990135.0</td>\n",
       "      <td>2022-12-29</td>\n",
       "      <td>353700</td>\n",
       "      <td>91500</td>\n",
       "      <td>...</td>\n",
       "      <td>0.0</td>\n",
       "      <td>20.9</td>\n",
       "      <td>28.5</td>\n",
       "      <td>0.1</td>\n",
       "      <td>10.5</td>\n",
       "      <td>19.1</td>\n",
       "      <td>19.5</td>\n",
       "      <td>11.9</td>\n",
       "      <td>19.4</td>\n",
       "      <td>0.0</td>\n",
       "    </tr>\n",
       "    <tr>\n",
       "      <th>1824</th>\n",
       "      <td>40.5</td>\n",
       "      <td>43.0</td>\n",
       "      <td>1592549.0</td>\n",
       "      <td>35037318.0</td>\n",
       "      <td>122636.0</td>\n",
       "      <td>1203140.0</td>\n",
       "      <td>990135.0</td>\n",
       "      <td>2022-12-30</td>\n",
       "      <td>353700</td>\n",
       "      <td>91500</td>\n",
       "      <td>...</td>\n",
       "      <td>0.0</td>\n",
       "      <td>20.9</td>\n",
       "      <td>28.5</td>\n",
       "      <td>0.1</td>\n",
       "      <td>10.5</td>\n",
       "      <td>19.1</td>\n",
       "      <td>39.5</td>\n",
       "      <td>11.9</td>\n",
       "      <td>19.4</td>\n",
       "      <td>0.0</td>\n",
       "    </tr>\n",
       "    <tr>\n",
       "      <th>1825</th>\n",
       "      <td>40.5</td>\n",
       "      <td>43.0</td>\n",
       "      <td>1592549.0</td>\n",
       "      <td>35037318.0</td>\n",
       "      <td>122636.0</td>\n",
       "      <td>1203140.0</td>\n",
       "      <td>990135.0</td>\n",
       "      <td>2022-12-31</td>\n",
       "      <td>353700</td>\n",
       "      <td>91500</td>\n",
       "      <td>...</td>\n",
       "      <td>0.1</td>\n",
       "      <td>20.9</td>\n",
       "      <td>28.5</td>\n",
       "      <td>0.5</td>\n",
       "      <td>10.5</td>\n",
       "      <td>19.1</td>\n",
       "      <td>35.0</td>\n",
       "      <td>11.9</td>\n",
       "      <td>19.4</td>\n",
       "      <td>0.0</td>\n",
       "    </tr>\n",
       "  </tbody>\n",
       "</table>\n",
       "<p>1826 rows × 100 columns</p>\n",
       "</div>"
      ],
      "text/plain": [
       "      egg_TaijinPrice  Duckegg_TNN_TaijinPrice      入中雞雛數        產蛋隻數  \\\n",
       "0                24.5                     34.0  1160830.0  31170982.0   \n",
       "1                24.5                     34.0  1160830.0  31170982.0   \n",
       "2                26.5                     34.0  1160830.0  31170982.0   \n",
       "3                26.5                     34.0  1160830.0  31170982.0   \n",
       "4                26.5                     34.0  1160830.0  31170982.0   \n",
       "...               ...                      ...        ...         ...   \n",
       "1821             40.5                     43.0  1592549.0  35037318.0   \n",
       "1822             40.5                     43.0  1592549.0  35037318.0   \n",
       "1823             40.5                     43.0  1592549.0  35037318.0   \n",
       "1824             40.5                     43.0  1592549.0  35037318.0   \n",
       "1825             40.5                     43.0  1592549.0  35037318.0   \n",
       "\n",
       "      均  日     產蛋箱數       淘汰隻數  目  前         換羽隻數        Date  \\\n",
       "0          114908.0   866824.0           633700.0  2018-01-01   \n",
       "1          114908.0   866824.0           633700.0  2018-01-02   \n",
       "2          114908.0   866824.0           633700.0  2018-01-03   \n",
       "3          114908.0   866824.0           633700.0  2018-01-04   \n",
       "4          114908.0   866824.0           633700.0  2018-01-05   \n",
       "...             ...        ...                ...         ...   \n",
       "1821       122636.0  1203140.0           990135.0  2022-12-27   \n",
       "1822       122636.0  1203140.0           990135.0  2022-12-28   \n",
       "1823       122636.0  1203140.0           990135.0  2022-12-29   \n",
       "1824       122636.0  1203140.0           990135.0  2022-12-30   \n",
       "1825       122636.0  1203140.0           990135.0  2022-12-31   \n",
       "\n",
       "      WhiteChickQuantity  RedChickQuantity  ...  嘉義_Precipitation  \\\n",
       "0                 245600             84800  ...               0.0   \n",
       "1                 245600             84800  ...               0.0   \n",
       "2                 245600             84800  ...               0.0   \n",
       "3                 245600             84800  ...               5.0   \n",
       "4                 245600             84800  ...               4.5   \n",
       "...                  ...               ...  ...               ...   \n",
       "1821              387890             83670  ...               0.0   \n",
       "1822              387890             83670  ...               0.0   \n",
       "1823              353700             91500  ...               0.0   \n",
       "1824              353700             91500  ...               0.0   \n",
       "1825              353700             91500  ...               0.1   \n",
       "\n",
       "      臺東_AirTemperatureMean  臺東_AirTemperatureMax  臺東_Precipitation  \\\n",
       "0                      19.1                  25.4               0.0   \n",
       "1                      19.1                  25.4               0.1   \n",
       "2                      19.1                  25.4               0.1   \n",
       "3                      19.1                  25.4               4.2   \n",
       "4                      19.1                  25.4              10.5   \n",
       "...                     ...                   ...               ...   \n",
       "1821                   20.9                  28.5               0.1   \n",
       "1822                   20.9                  28.5               0.1   \n",
       "1823                   20.9                  28.5               0.1   \n",
       "1824                   20.9                  28.5               0.1   \n",
       "1825                   20.9                  28.5               0.5   \n",
       "\n",
       "      鞍部_AirTemperatureMean  鞍部_AirTemperatureMax  鞍部_Precipitation  \\\n",
       "0                      10.6                  20.7               4.0   \n",
       "1                      10.6                  20.7               0.5   \n",
       "2                      10.6                  20.7               0.7   \n",
       "3                      10.6                  20.7               0.0   \n",
       "4                      10.6                  20.7               9.3   \n",
       "...                     ...                   ...               ...   \n",
       "1821                   10.5                  19.1               1.0   \n",
       "1822                   10.5                  19.1              21.0   \n",
       "1823                   10.5                  19.1              19.5   \n",
       "1824                   10.5                  19.1              39.5   \n",
       "1825                   10.5                  19.1              35.0   \n",
       "\n",
       "      馬祖_AirTemperatureMean  馬祖_AirTemperatureMax  馬祖_Precipitation  \n",
       "0                      10.7                  21.8               0.0  \n",
       "1                      10.7                  21.8               0.0  \n",
       "2                      10.7                  21.8               0.0  \n",
       "3                      10.7                  21.8               0.1  \n",
       "4                      10.7                  21.8               1.7  \n",
       "...                     ...                   ...               ...  \n",
       "1821                   11.9                  19.4               0.0  \n",
       "1822                   11.9                  19.4               0.0  \n",
       "1823                   11.9                  19.4               0.0  \n",
       "1824                   11.9                  19.4               0.0  \n",
       "1825                   11.9                  19.4               0.0  \n",
       "\n",
       "[1826 rows x 100 columns]"
      ]
     },
     "execution_count": 60,
     "metadata": {},
     "output_type": "execute_result"
    }
   ],
   "source": [
    "rawdata = pd.read_csv('./Dataset.csv')\n",
    "rawdata"
   ]
  },
  {
   "cell_type": "markdown",
   "metadata": {
    "id": "3c126389-dcb8-4382-88ec-6c953d525405"
   },
   "source": [
    "#### 整理成 index 為日期的格式"
   ]
  },
  {
   "cell_type": "code",
   "execution_count": 66,
   "metadata": {
    "colab": {
     "base_uri": "https://localhost:8080/"
    },
    "id": "2ec3c0ca-7154-4b1d-937b-eab8419b1139",
    "outputId": "9d938d20-8c49-4c32-e2bf-bf3727002c7c"
   },
   "outputs": [
    {
     "name": "stderr",
     "output_type": "stream",
     "text": [
      "/usr/local/lib/python3.6/dist-packages/ipykernel_launcher.py:12: SettingWithCopyWarning: \n",
      "A value is trying to be set on a copy of a slice from a DataFrame\n",
      "\n",
      "See the caveats in the documentation: https://pandas.pydata.org/pandas-docs/stable/user_guide/indexing.html#returning-a-view-versus-a-copy\n",
      "  if sys.path[0] == '':\n"
     ]
    }
   ],
   "source": [
    "col_list = ['Duckegg_TNN_TaijinPrice', '入中雞雛數', '產蛋隻數',\n",
    "       '均  日     產蛋箱數', '淘汰隻數', '目  前         換羽隻數',\n",
    "       'WhiteChickQuantity', 'RedChickQuantity', 'ImportChickenQuantity',\n",
    "       ' 玉米粒', ' 黃豆粉 ', '玉米粉 ', '脫殼豆粉', '高蛋白豆粉', '臺中_AirTemperatureMean',\n",
    "       '臺中_AirTemperatureMax', '臺中_Precipitation','egg_TaijinPrice']\n",
    "\n",
    "orid = pd.DataFrame(columns=col_list, index=rawdata['Date'])\n",
    "\n",
    "for i in col_list:\n",
    "    counter =0\n",
    "    for j in rawdata['Date']:\n",
    "        orid[i][j] = rawdata[i][counter]\n",
    "        counter+=1\n",
    "    if (orid[i].isnull().any()):\n",
    "        orid[i] = orid[i].fillna(orid[i].mean())\n",
    "\n",
    "oridata = pd.DataFrame()\n",
    "for col in col_list:\n",
    "\n",
    "    data_pre = np.array(orid[col])\n",
    "    ## 調整蛋價也normalize\n",
    "    ##if(col != 'egg_TaijinPrice'):\n",
    "    data_pre = preprocessing.normalize([data_pre])\n",
    "    data_pre = data_pre.reshape(1826,1)\n",
    "    data_pre = pd.DataFrame(data_pre)\n",
    "    oridata = pd.concat((oridata, data_pre),axis=1)\n",
    "\n",
    "data_pre = pd.DataFrame(np.array(orid['egg_TaijinPrice']))\n",
    "oridata = pd.concat((oridata, data_pre),axis=1)"
   ]
  },
  {
   "cell_type": "code",
   "execution_count": 67,
   "metadata": {
    "colab": {
     "base_uri": "https://localhost:8080/",
     "height": 444
    },
    "id": "B8GcJHpyhPdR",
    "outputId": "43b41ae4-fd1a-4def-aca7-5c71b4423f45"
   },
   "outputs": [
    {
     "data": {
      "text/html": [
       "<div>\n",
       "<style scoped>\n",
       "    .dataframe tbody tr th:only-of-type {\n",
       "        vertical-align: middle;\n",
       "    }\n",
       "\n",
       "    .dataframe tbody tr th {\n",
       "        vertical-align: top;\n",
       "    }\n",
       "\n",
       "    .dataframe thead th {\n",
       "        text-align: right;\n",
       "    }\n",
       "</style>\n",
       "<table border=\"1\" class=\"dataframe\">\n",
       "  <thead>\n",
       "    <tr style=\"text-align: right;\">\n",
       "      <th></th>\n",
       "      <th>0</th>\n",
       "      <th>0</th>\n",
       "      <th>0</th>\n",
       "      <th>0</th>\n",
       "      <th>0</th>\n",
       "      <th>0</th>\n",
       "      <th>0</th>\n",
       "      <th>0</th>\n",
       "      <th>0</th>\n",
       "      <th>0</th>\n",
       "      <th>0</th>\n",
       "      <th>0</th>\n",
       "      <th>0</th>\n",
       "      <th>0</th>\n",
       "      <th>0</th>\n",
       "      <th>0</th>\n",
       "      <th>0</th>\n",
       "      <th>0</th>\n",
       "      <th>0</th>\n",
       "    </tr>\n",
       "  </thead>\n",
       "  <tbody>\n",
       "    <tr>\n",
       "      <th>0</th>\n",
       "      <td>0.022299</td>\n",
       "      <td>0.018129</td>\n",
       "      <td>0.022858</td>\n",
       "      <td>0.023605</td>\n",
       "      <td>0.017574</td>\n",
       "      <td>0.011763</td>\n",
       "      <td>0.016701</td>\n",
       "      <td>0.028463</td>\n",
       "      <td>0.000000</td>\n",
       "      <td>0.015549</td>\n",
       "      <td>0.019350</td>\n",
       "      <td>0.016338</td>\n",
       "      <td>0.018632</td>\n",
       "      <td>0.019627</td>\n",
       "      <td>0.016452</td>\n",
       "      <td>0.019250</td>\n",
       "      <td>0.000000</td>\n",
       "      <td>0.018624</td>\n",
       "      <td>24.5</td>\n",
       "    </tr>\n",
       "    <tr>\n",
       "      <th>1</th>\n",
       "      <td>0.022299</td>\n",
       "      <td>0.018129</td>\n",
       "      <td>0.022858</td>\n",
       "      <td>0.023605</td>\n",
       "      <td>0.017574</td>\n",
       "      <td>0.011763</td>\n",
       "      <td>0.016701</td>\n",
       "      <td>0.028463</td>\n",
       "      <td>0.000000</td>\n",
       "      <td>0.015549</td>\n",
       "      <td>0.019350</td>\n",
       "      <td>0.016338</td>\n",
       "      <td>0.018632</td>\n",
       "      <td>0.019627</td>\n",
       "      <td>0.016452</td>\n",
       "      <td>0.019250</td>\n",
       "      <td>0.000000</td>\n",
       "      <td>0.018624</td>\n",
       "      <td>24.5</td>\n",
       "    </tr>\n",
       "    <tr>\n",
       "      <th>2</th>\n",
       "      <td>0.022299</td>\n",
       "      <td>0.018129</td>\n",
       "      <td>0.022858</td>\n",
       "      <td>0.023605</td>\n",
       "      <td>0.017574</td>\n",
       "      <td>0.011763</td>\n",
       "      <td>0.016701</td>\n",
       "      <td>0.028463</td>\n",
       "      <td>0.000000</td>\n",
       "      <td>0.015549</td>\n",
       "      <td>0.019350</td>\n",
       "      <td>0.016338</td>\n",
       "      <td>0.018632</td>\n",
       "      <td>0.019627</td>\n",
       "      <td>0.016452</td>\n",
       "      <td>0.019250</td>\n",
       "      <td>0.000000</td>\n",
       "      <td>0.020145</td>\n",
       "      <td>26.5</td>\n",
       "    </tr>\n",
       "    <tr>\n",
       "      <th>3</th>\n",
       "      <td>0.022299</td>\n",
       "      <td>0.018129</td>\n",
       "      <td>0.022858</td>\n",
       "      <td>0.023605</td>\n",
       "      <td>0.017574</td>\n",
       "      <td>0.011763</td>\n",
       "      <td>0.016701</td>\n",
       "      <td>0.028463</td>\n",
       "      <td>0.000000</td>\n",
       "      <td>0.015549</td>\n",
       "      <td>0.019350</td>\n",
       "      <td>0.016289</td>\n",
       "      <td>0.018632</td>\n",
       "      <td>0.019627</td>\n",
       "      <td>0.016452</td>\n",
       "      <td>0.019250</td>\n",
       "      <td>0.005391</td>\n",
       "      <td>0.020145</td>\n",
       "      <td>26.5</td>\n",
       "    </tr>\n",
       "    <tr>\n",
       "      <th>4</th>\n",
       "      <td>0.022299</td>\n",
       "      <td>0.018129</td>\n",
       "      <td>0.022858</td>\n",
       "      <td>0.023605</td>\n",
       "      <td>0.017574</td>\n",
       "      <td>0.011763</td>\n",
       "      <td>0.016701</td>\n",
       "      <td>0.028463</td>\n",
       "      <td>0.000000</td>\n",
       "      <td>0.015549</td>\n",
       "      <td>0.019350</td>\n",
       "      <td>0.016289</td>\n",
       "      <td>0.018632</td>\n",
       "      <td>0.019612</td>\n",
       "      <td>0.016452</td>\n",
       "      <td>0.019250</td>\n",
       "      <td>0.000674</td>\n",
       "      <td>0.020145</td>\n",
       "      <td>26.5</td>\n",
       "    </tr>\n",
       "    <tr>\n",
       "      <th>...</th>\n",
       "      <td>...</td>\n",
       "      <td>...</td>\n",
       "      <td>...</td>\n",
       "      <td>...</td>\n",
       "      <td>...</td>\n",
       "      <td>...</td>\n",
       "      <td>...</td>\n",
       "      <td>...</td>\n",
       "      <td>...</td>\n",
       "      <td>...</td>\n",
       "      <td>...</td>\n",
       "      <td>...</td>\n",
       "      <td>...</td>\n",
       "      <td>...</td>\n",
       "      <td>...</td>\n",
       "      <td>...</td>\n",
       "      <td>...</td>\n",
       "      <td>...</td>\n",
       "      <td>...</td>\n",
       "    </tr>\n",
       "    <tr>\n",
       "      <th>1821</th>\n",
       "      <td>0.028201</td>\n",
       "      <td>0.024871</td>\n",
       "      <td>0.025693</td>\n",
       "      <td>0.025193</td>\n",
       "      <td>0.024392</td>\n",
       "      <td>0.018379</td>\n",
       "      <td>0.026376</td>\n",
       "      <td>0.028084</td>\n",
       "      <td>0.019391</td>\n",
       "      <td>0.027656</td>\n",
       "      <td>0.031693</td>\n",
       "      <td>0.028500</td>\n",
       "      <td>0.029559</td>\n",
       "      <td>0.031201</td>\n",
       "      <td>0.016928</td>\n",
       "      <td>0.019887</td>\n",
       "      <td>0.000000</td>\n",
       "      <td>0.030787</td>\n",
       "      <td>40.5</td>\n",
       "    </tr>\n",
       "    <tr>\n",
       "      <th>1822</th>\n",
       "      <td>0.028201</td>\n",
       "      <td>0.024871</td>\n",
       "      <td>0.025693</td>\n",
       "      <td>0.025193</td>\n",
       "      <td>0.024392</td>\n",
       "      <td>0.018379</td>\n",
       "      <td>0.026376</td>\n",
       "      <td>0.028084</td>\n",
       "      <td>0.019391</td>\n",
       "      <td>0.028166</td>\n",
       "      <td>0.031693</td>\n",
       "      <td>0.028696</td>\n",
       "      <td>0.029559</td>\n",
       "      <td>0.031201</td>\n",
       "      <td>0.016928</td>\n",
       "      <td>0.019887</td>\n",
       "      <td>0.000000</td>\n",
       "      <td>0.030787</td>\n",
       "      <td>40.5</td>\n",
       "    </tr>\n",
       "    <tr>\n",
       "      <th>1823</th>\n",
       "      <td>0.028201</td>\n",
       "      <td>0.024871</td>\n",
       "      <td>0.025693</td>\n",
       "      <td>0.025193</td>\n",
       "      <td>0.024392</td>\n",
       "      <td>0.018379</td>\n",
       "      <td>0.024051</td>\n",
       "      <td>0.030712</td>\n",
       "      <td>0.019391</td>\n",
       "      <td>0.028166</td>\n",
       "      <td>0.031693</td>\n",
       "      <td>0.028942</td>\n",
       "      <td>0.029559</td>\n",
       "      <td>0.031201</td>\n",
       "      <td>0.016928</td>\n",
       "      <td>0.019887</td>\n",
       "      <td>0.000135</td>\n",
       "      <td>0.030787</td>\n",
       "      <td>40.5</td>\n",
       "    </tr>\n",
       "    <tr>\n",
       "      <th>1824</th>\n",
       "      <td>0.028201</td>\n",
       "      <td>0.024871</td>\n",
       "      <td>0.025693</td>\n",
       "      <td>0.025193</td>\n",
       "      <td>0.024392</td>\n",
       "      <td>0.018379</td>\n",
       "      <td>0.024051</td>\n",
       "      <td>0.030712</td>\n",
       "      <td>0.019391</td>\n",
       "      <td>0.028548</td>\n",
       "      <td>0.031693</td>\n",
       "      <td>0.028942</td>\n",
       "      <td>0.029559</td>\n",
       "      <td>0.031201</td>\n",
       "      <td>0.016928</td>\n",
       "      <td>0.019887</td>\n",
       "      <td>0.000000</td>\n",
       "      <td>0.030787</td>\n",
       "      <td>40.5</td>\n",
       "    </tr>\n",
       "    <tr>\n",
       "      <th>1825</th>\n",
       "      <td>0.028201</td>\n",
       "      <td>0.024871</td>\n",
       "      <td>0.025693</td>\n",
       "      <td>0.025193</td>\n",
       "      <td>0.024392</td>\n",
       "      <td>0.018379</td>\n",
       "      <td>0.024051</td>\n",
       "      <td>0.030712</td>\n",
       "      <td>0.019391</td>\n",
       "      <td>0.028548</td>\n",
       "      <td>0.031693</td>\n",
       "      <td>0.028942</td>\n",
       "      <td>0.029559</td>\n",
       "      <td>0.031201</td>\n",
       "      <td>0.016928</td>\n",
       "      <td>0.019887</td>\n",
       "      <td>0.000000</td>\n",
       "      <td>0.030787</td>\n",
       "      <td>40.5</td>\n",
       "    </tr>\n",
       "  </tbody>\n",
       "</table>\n",
       "<p>1826 rows × 19 columns</p>\n",
       "</div>"
      ],
      "text/plain": [
       "             0         0         0         0         0         0         0  \\\n",
       "0     0.022299  0.018129  0.022858  0.023605  0.017574  0.011763  0.016701   \n",
       "1     0.022299  0.018129  0.022858  0.023605  0.017574  0.011763  0.016701   \n",
       "2     0.022299  0.018129  0.022858  0.023605  0.017574  0.011763  0.016701   \n",
       "3     0.022299  0.018129  0.022858  0.023605  0.017574  0.011763  0.016701   \n",
       "4     0.022299  0.018129  0.022858  0.023605  0.017574  0.011763  0.016701   \n",
       "...        ...       ...       ...       ...       ...       ...       ...   \n",
       "1821  0.028201  0.024871  0.025693  0.025193  0.024392  0.018379  0.026376   \n",
       "1822  0.028201  0.024871  0.025693  0.025193  0.024392  0.018379  0.026376   \n",
       "1823  0.028201  0.024871  0.025693  0.025193  0.024392  0.018379  0.024051   \n",
       "1824  0.028201  0.024871  0.025693  0.025193  0.024392  0.018379  0.024051   \n",
       "1825  0.028201  0.024871  0.025693  0.025193  0.024392  0.018379  0.024051   \n",
       "\n",
       "             0         0         0         0         0         0         0  \\\n",
       "0     0.028463  0.000000  0.015549  0.019350  0.016338  0.018632  0.019627   \n",
       "1     0.028463  0.000000  0.015549  0.019350  0.016338  0.018632  0.019627   \n",
       "2     0.028463  0.000000  0.015549  0.019350  0.016338  0.018632  0.019627   \n",
       "3     0.028463  0.000000  0.015549  0.019350  0.016289  0.018632  0.019627   \n",
       "4     0.028463  0.000000  0.015549  0.019350  0.016289  0.018632  0.019612   \n",
       "...        ...       ...       ...       ...       ...       ...       ...   \n",
       "1821  0.028084  0.019391  0.027656  0.031693  0.028500  0.029559  0.031201   \n",
       "1822  0.028084  0.019391  0.028166  0.031693  0.028696  0.029559  0.031201   \n",
       "1823  0.030712  0.019391  0.028166  0.031693  0.028942  0.029559  0.031201   \n",
       "1824  0.030712  0.019391  0.028548  0.031693  0.028942  0.029559  0.031201   \n",
       "1825  0.030712  0.019391  0.028548  0.031693  0.028942  0.029559  0.031201   \n",
       "\n",
       "             0         0         0         0     0  \n",
       "0     0.016452  0.019250  0.000000  0.018624  24.5  \n",
       "1     0.016452  0.019250  0.000000  0.018624  24.5  \n",
       "2     0.016452  0.019250  0.000000  0.020145  26.5  \n",
       "3     0.016452  0.019250  0.005391  0.020145  26.5  \n",
       "4     0.016452  0.019250  0.000674  0.020145  26.5  \n",
       "...        ...       ...       ...       ...   ...  \n",
       "1821  0.016928  0.019887  0.000000  0.030787  40.5  \n",
       "1822  0.016928  0.019887  0.000000  0.030787  40.5  \n",
       "1823  0.016928  0.019887  0.000135  0.030787  40.5  \n",
       "1824  0.016928  0.019887  0.000000  0.030787  40.5  \n",
       "1825  0.016928  0.019887  0.000000  0.030787  40.5  \n",
       "\n",
       "[1826 rows x 19 columns]"
      ]
     },
     "execution_count": 67,
     "metadata": {},
     "output_type": "execute_result"
    }
   ],
   "source": [
    "oridata"
   ]
  },
  {
   "cell_type": "markdown",
   "metadata": {},
   "source": [
    "## 增加欄位的data"
   ]
  },
  {
   "cell_type": "code",
   "execution_count": 246,
   "metadata": {},
   "outputs": [],
   "source": [
    "# Ｖ\n",
    "ex_data = pd.read_csv('./exten_data.csv')\n",
    "ex_list = ['NumRuChung_1','NumRuChung_2','NumRuChung_3','NumRuChung_4','NumRuChung_5','NumRuChung_6',\n",
    "          'NumOfChickLayingEggs_1','NumOfChickLayingEggs_2','NumOfChickLayingEggs_3','NumOfChickLayingEggs_4','NumOfChickLayingEggs_5','NumOfChickLayingEggs_6',\n",
    "           'BoxesOfEggsPerDay_1','BoxesOfEggsPerDay_2','BoxesOfEggsPerDay_3','BoxesOfEggsPerDay_4','BoxesOfEggsPerDay_5','BoxesOfEggsPerDay_6',\n",
    "           'NumDisuse_1','NumDisuse_2','NumDisuse_3','NumDisuse_4','NumDisuse_5','NumDisuse_6',\n",
    "           'NumMoulting_1','NumMoulting_2','NumMoulting_3','NumMoulting_4','NumMoulting_5','NumMoulting_6',\n",
    "           'WhiteChickQuantity_1','WhiteChickQuantity_2','WhiteChickQuantity_3','WhiteChickQuantity_4','WhiteChickQuantity_5','WhiteChickQuantity_6',\n",
    "           'RedChickQuantity_1','RedChickQuantity_2','RedChickQuantity_3','RedChickQuantity_4','RedChickQuantity_5','RedChickQuantity_6',\n",
    "           'ImportChickenQuantity_1','ImportChickenQuantity_2','ImportChickenQuantity_3','ImportChickenQuantity_4','ImportChickenQuantity_5','ImportChickenQuantity_6',\n",
    "           'Corn_1','Corn_2','Corn_3','Corn_4','Corn_5','Corn_6',\n",
    "           'SoyBeanFlour_1','SoyBeanFlour_2','SoyBeanFlour_3','SoyBeanFlour_4','SoyBeanFlour_5','SoyBeanFlour_6',\n",
    "           'CornFlour_1','CornFlour_2','CornFlour_3','CornFlour_4','CornFlour_5','CornFlour_6',\n",
    "           'DehulledBeanFlour_1','DehulledBeanFlour_2','DehulledBeanFlour_3','DehulledBeanFlour_4','DehulledBeanFlour_5','DehulledBeanFlour_6',\n",
    "           'HighProteinBeanFlour_1','HighProteinBeanFlour_2','HighProteinBeanFlour_3','HighProteinBeanFlour_4','HighProteinBeanFlour_5','HighProteinBeanFlour_6']"
   ]
  },
  {
   "cell_type": "code",
   "execution_count": 250,
   "metadata": {},
   "outputs": [
    {
     "data": {
      "text/plain": [
       "0       1352635.0\n",
       "1       1352635.0\n",
       "2       1352635.0\n",
       "3       1352635.0\n",
       "4       1352635.0\n",
       "          ...    \n",
       "1640    1547765.0\n",
       "1641    1547765.0\n",
       "1642    1547765.0\n",
       "1643    1547765.0\n",
       "1644    1592549.0\n",
       "Name: NumRuChung_1, Length: 1645, dtype: float64"
      ]
     },
     "execution_count": 250,
     "metadata": {},
     "output_type": "execute_result"
    }
   ],
   "source": [
    "ex_data['NumRuChung_1']"
   ]
  },
  {
   "cell_type": "code",
   "execution_count": 267,
   "metadata": {},
   "outputs": [
    {
     "name": "stderr",
     "output_type": "stream",
     "text": [
      "/usr/local/lib/python3.6/dist-packages/ipykernel_launcher.py:27: SettingWithCopyWarning: \n",
      "A value is trying to be set on a copy of a slice from a DataFrame\n",
      "\n",
      "See the caveats in the documentation: https://pandas.pydata.org/pandas-docs/stable/user_guide/indexing.html#returning-a-view-versus-a-copy\n",
      "/usr/local/lib/python3.6/dist-packages/ipykernel_launcher.py:37: SettingWithCopyWarning: \n",
      "A value is trying to be set on a copy of a slice from a DataFrame\n",
      "\n",
      "See the caveats in the documentation: https://pandas.pydata.org/pandas-docs/stable/user_guide/indexing.html#returning-a-view-versus-a-copy\n",
      "/usr/local/lib/python3.6/dist-packages/ipykernel_launcher.py:41: SettingWithCopyWarning: \n",
      "A value is trying to be set on a copy of a slice from a DataFrame\n",
      "\n",
      "See the caveats in the documentation: https://pandas.pydata.org/pandas-docs/stable/user_guide/indexing.html#returning-a-view-versus-a-copy\n"
     ]
    }
   ],
   "source": [
    "colex_list = ['Duckegg_TNN_TaijinPrice', '入中雞雛數', '產蛋隻數',\n",
    "       '均  日     產蛋箱數', '淘汰隻數', '目  前         換羽隻數',\n",
    "       'WhiteChickQuantity', 'RedChickQuantity', 'ImportChickenQuantity',\n",
    "       ' 玉米粒', ' 黃豆粉 ', '玉米粉 ', '脫殼豆粉', '高蛋白豆粉', '臺中_AirTemperatureMean',\n",
    "       '臺中_AirTemperatureMax', '臺中_Precipitation','egg_TaijinPrice',\n",
    "            'NumRuChung_1','NumRuChung_2','NumRuChung_3','NumRuChung_4','NumRuChung_5','NumRuChung_6',\n",
    "          'NumOfChickLayingEggs_1','NumOfChickLayingEggs_2','NumOfChickLayingEggs_3','NumOfChickLayingEggs_4','NumOfChickLayingEggs_5','NumOfChickLayingEggs_6',\n",
    "           'BoxesOfEggsPerDay_1','BoxesOfEggsPerDay_2','BoxesOfEggsPerDay_3','BoxesOfEggsPerDay_4','BoxesOfEggsPerDay_5','BoxesOfEggsPerDay_6',\n",
    "           'NumDisuse_1','NumDisuse_2','NumDisuse_3','NumDisuse_4','NumDisuse_5','NumDisuse_6',\n",
    "           'NumMoulting_1','NumMoulting_2','NumMoulting_3','NumMoulting_4','NumMoulting_5','NumMoulting_6',\n",
    "           'WhiteChickQuantity_1','WhiteChickQuantity_2','WhiteChickQuantity_3','WhiteChickQuantity_4','WhiteChickQuantity_5','WhiteChickQuantity_6',\n",
    "           'RedChickQuantity_1','RedChickQuantity_2','RedChickQuantity_3','RedChickQuantity_4','RedChickQuantity_5','RedChickQuantity_6',\n",
    "           'ImportChickenQuantity_1','ImportChickenQuantity_2','ImportChickenQuantity_3','ImportChickenQuantity_4','ImportChickenQuantity_5','ImportChickenQuantity_6',\n",
    "           'Corn_1','Corn_2','Corn_3','Corn_4','Corn_5','Corn_6',\n",
    "           'SoyBeanFlour_1','SoyBeanFlour_2','SoyBeanFlour_3','SoyBeanFlour_4','SoyBeanFlour_5','SoyBeanFlour_6',\n",
    "           'CornFlour_1','CornFlour_2','CornFlour_3','CornFlour_4','CornFlour_5','CornFlour_6',\n",
    "           'DehulledBeanFlour_1','DehulledBeanFlour_2','DehulledBeanFlour_3','DehulledBeanFlour_4','DehulledBeanFlour_5','DehulledBeanFlour_6',\n",
    "           'HighProteinBeanFlour_1','HighProteinBeanFlour_2','HighProteinBeanFlour_3','HighProteinBeanFlour_4','HighProteinBeanFlour_5','HighProteinBeanFlour_6'\n",
    "            ]\n",
    "\n",
    "orid_ex = pd.DataFrame(columns=colex_list, index=rawdata['Date'])\n",
    "\n",
    "#原有資料\n",
    "for i in col_list:\n",
    "    counter =0\n",
    "    for j in rawdata['Date']:\n",
    "        orid_ex[i][j] = rawdata[i][counter]\n",
    "        counter+=1\n",
    "    if (orid_ex[i].isnull().any()):\n",
    "        orid_ex[i] = orid_ex[i].fillna(orid_ex[i].mean())\n",
    "\n",
    "#移動之後的資料\n",
    "for i in ex_list:\n",
    "    counter = 0\n",
    "    for j in rawdata['Date']:\n",
    "        if(counter < 181):\n",
    "            orid_ex[i][j]=None\n",
    "        if(counter>=181):\n",
    "            k = counter-181\n",
    "#             print(ex_data[i][k])\n",
    "            orid_ex[i][j] = ex_data[i][k]\n",
    "        counter+=1\n",
    "\n",
    "orid_ex = orid_ex.dropna(axis=0,how='any')\n",
    "oridata = pd.DataFrame()\n",
    "for col in colex_list:\n",
    "\n",
    "    data_pre = np.array(orid_ex[col])\n",
    "    ## 調整蛋價也normalize\n",
    "    ##if(col != 'egg_TaijinPrice'):\n",
    "    data_pre = preprocessing.normalize([data_pre])\n",
    "    data_pre = data_pre.reshape(1645,1)\n",
    "    data_pre = pd.DataFrame(data_pre)\n",
    "    oridata = pd.concat((oridata, data_pre),axis=1)\n",
    "\n",
    "data_pre = pd.DataFrame(np.array(orid_ex['egg_TaijinPrice']))\n",
    "oridata_ex = pd.concat((oridata, data_pre),axis=1)"
   ]
  },
  {
   "cell_type": "code",
   "execution_count": 268,
   "metadata": {},
   "outputs": [
    {
     "data": {
      "text/html": [
       "<div>\n",
       "<style scoped>\n",
       "    .dataframe tbody tr th:only-of-type {\n",
       "        vertical-align: middle;\n",
       "    }\n",
       "\n",
       "    .dataframe tbody tr th {\n",
       "        vertical-align: top;\n",
       "    }\n",
       "\n",
       "    .dataframe thead th {\n",
       "        text-align: right;\n",
       "    }\n",
       "</style>\n",
       "<table border=\"1\" class=\"dataframe\">\n",
       "  <thead>\n",
       "    <tr style=\"text-align: right;\">\n",
       "      <th></th>\n",
       "      <th>0</th>\n",
       "      <th>0</th>\n",
       "      <th>0</th>\n",
       "      <th>0</th>\n",
       "      <th>0</th>\n",
       "      <th>0</th>\n",
       "      <th>0</th>\n",
       "      <th>0</th>\n",
       "      <th>0</th>\n",
       "      <th>0</th>\n",
       "      <th>...</th>\n",
       "      <th>0</th>\n",
       "      <th>0</th>\n",
       "      <th>0</th>\n",
       "      <th>0</th>\n",
       "      <th>0</th>\n",
       "      <th>0</th>\n",
       "      <th>0</th>\n",
       "      <th>0</th>\n",
       "      <th>0</th>\n",
       "      <th>0</th>\n",
       "    </tr>\n",
       "  </thead>\n",
       "  <tbody>\n",
       "    <tr>\n",
       "      <th>0</th>\n",
       "      <td>0.021892</td>\n",
       "      <td>0.025182</td>\n",
       "      <td>0.023020</td>\n",
       "      <td>0.023413</td>\n",
       "      <td>0.018166</td>\n",
       "      <td>0.013252</td>\n",
       "      <td>0.026586</td>\n",
       "      <td>0.014775</td>\n",
       "      <td>0.018433</td>\n",
       "      <td>0.017608</td>\n",
       "      <td>...</td>\n",
       "      <td>0.021535</td>\n",
       "      <td>0.020176</td>\n",
       "      <td>0.020131</td>\n",
       "      <td>0.023051</td>\n",
       "      <td>0.023253</td>\n",
       "      <td>0.023333</td>\n",
       "      <td>0.022645</td>\n",
       "      <td>0.021564</td>\n",
       "      <td>0.021440</td>\n",
       "      <td>27.5</td>\n",
       "    </tr>\n",
       "    <tr>\n",
       "      <th>1</th>\n",
       "      <td>0.021892</td>\n",
       "      <td>0.025182</td>\n",
       "      <td>0.023020</td>\n",
       "      <td>0.023413</td>\n",
       "      <td>0.018166</td>\n",
       "      <td>0.013252</td>\n",
       "      <td>0.026586</td>\n",
       "      <td>0.014775</td>\n",
       "      <td>0.018433</td>\n",
       "      <td>0.017608</td>\n",
       "      <td>...</td>\n",
       "      <td>0.021685</td>\n",
       "      <td>0.020176</td>\n",
       "      <td>0.020131</td>\n",
       "      <td>0.023051</td>\n",
       "      <td>0.023206</td>\n",
       "      <td>0.023285</td>\n",
       "      <td>0.022789</td>\n",
       "      <td>0.021516</td>\n",
       "      <td>0.021440</td>\n",
       "      <td>27.5</td>\n",
       "    </tr>\n",
       "    <tr>\n",
       "      <th>2</th>\n",
       "      <td>0.021892</td>\n",
       "      <td>0.025182</td>\n",
       "      <td>0.023020</td>\n",
       "      <td>0.023413</td>\n",
       "      <td>0.018166</td>\n",
       "      <td>0.013252</td>\n",
       "      <td>0.026586</td>\n",
       "      <td>0.014775</td>\n",
       "      <td>0.018433</td>\n",
       "      <td>0.017608</td>\n",
       "      <td>...</td>\n",
       "      <td>0.021685</td>\n",
       "      <td>0.020176</td>\n",
       "      <td>0.020131</td>\n",
       "      <td>0.023051</td>\n",
       "      <td>0.023285</td>\n",
       "      <td>0.023285</td>\n",
       "      <td>0.022789</td>\n",
       "      <td>0.021516</td>\n",
       "      <td>0.021440</td>\n",
       "      <td>27.5</td>\n",
       "    </tr>\n",
       "    <tr>\n",
       "      <th>3</th>\n",
       "      <td>0.023260</td>\n",
       "      <td>0.025182</td>\n",
       "      <td>0.023020</td>\n",
       "      <td>0.023413</td>\n",
       "      <td>0.018166</td>\n",
       "      <td>0.013252</td>\n",
       "      <td>0.026586</td>\n",
       "      <td>0.014775</td>\n",
       "      <td>0.018433</td>\n",
       "      <td>0.017608</td>\n",
       "      <td>...</td>\n",
       "      <td>0.021685</td>\n",
       "      <td>0.020176</td>\n",
       "      <td>0.020131</td>\n",
       "      <td>0.023051</td>\n",
       "      <td>0.023285</td>\n",
       "      <td>0.023285</td>\n",
       "      <td>0.023029</td>\n",
       "      <td>0.021483</td>\n",
       "      <td>0.021423</td>\n",
       "      <td>27.5</td>\n",
       "    </tr>\n",
       "    <tr>\n",
       "      <th>4</th>\n",
       "      <td>0.023260</td>\n",
       "      <td>0.025182</td>\n",
       "      <td>0.023020</td>\n",
       "      <td>0.023413</td>\n",
       "      <td>0.018166</td>\n",
       "      <td>0.013252</td>\n",
       "      <td>0.026586</td>\n",
       "      <td>0.014775</td>\n",
       "      <td>0.018433</td>\n",
       "      <td>0.017476</td>\n",
       "      <td>...</td>\n",
       "      <td>0.021685</td>\n",
       "      <td>0.020176</td>\n",
       "      <td>0.020131</td>\n",
       "      <td>0.023051</td>\n",
       "      <td>0.023159</td>\n",
       "      <td>0.023285</td>\n",
       "      <td>0.023029</td>\n",
       "      <td>0.021483</td>\n",
       "      <td>0.021423</td>\n",
       "      <td>27.5</td>\n",
       "    </tr>\n",
       "    <tr>\n",
       "      <th>...</th>\n",
       "      <td>...</td>\n",
       "      <td>...</td>\n",
       "      <td>...</td>\n",
       "      <td>...</td>\n",
       "      <td>...</td>\n",
       "      <td>...</td>\n",
       "      <td>...</td>\n",
       "      <td>...</td>\n",
       "      <td>...</td>\n",
       "      <td>...</td>\n",
       "      <td>...</td>\n",
       "      <td>...</td>\n",
       "      <td>...</td>\n",
       "      <td>...</td>\n",
       "      <td>...</td>\n",
       "      <td>...</td>\n",
       "      <td>...</td>\n",
       "      <td>...</td>\n",
       "      <td>...</td>\n",
       "      <td>...</td>\n",
       "      <td>...</td>\n",
       "    </tr>\n",
       "    <tr>\n",
       "      <th>1640</th>\n",
       "      <td>0.029417</td>\n",
       "      <td>0.025891</td>\n",
       "      <td>0.026917</td>\n",
       "      <td>0.026451</td>\n",
       "      <td>0.025374</td>\n",
       "      <td>0.019082</td>\n",
       "      <td>0.027670</td>\n",
       "      <td>0.029019</td>\n",
       "      <td>0.019814</td>\n",
       "      <td>0.028514</td>\n",
       "      <td>...</td>\n",
       "      <td>0.029760</td>\n",
       "      <td>0.028908</td>\n",
       "      <td>0.035721</td>\n",
       "      <td>0.032663</td>\n",
       "      <td>0.032217</td>\n",
       "      <td>0.032460</td>\n",
       "      <td>0.031553</td>\n",
       "      <td>0.030138</td>\n",
       "      <td>0.030350</td>\n",
       "      <td>40.5</td>\n",
       "    </tr>\n",
       "    <tr>\n",
       "      <th>1641</th>\n",
       "      <td>0.029417</td>\n",
       "      <td>0.025891</td>\n",
       "      <td>0.026917</td>\n",
       "      <td>0.026451</td>\n",
       "      <td>0.025374</td>\n",
       "      <td>0.019082</td>\n",
       "      <td>0.027670</td>\n",
       "      <td>0.029019</td>\n",
       "      <td>0.019814</td>\n",
       "      <td>0.029039</td>\n",
       "      <td>...</td>\n",
       "      <td>0.029760</td>\n",
       "      <td>0.028908</td>\n",
       "      <td>0.028304</td>\n",
       "      <td>0.032663</td>\n",
       "      <td>0.032296</td>\n",
       "      <td>0.032460</td>\n",
       "      <td>0.031553</td>\n",
       "      <td>0.030138</td>\n",
       "      <td>0.030350</td>\n",
       "      <td>40.5</td>\n",
       "    </tr>\n",
       "    <tr>\n",
       "      <th>1642</th>\n",
       "      <td>0.029417</td>\n",
       "      <td>0.025891</td>\n",
       "      <td>0.026917</td>\n",
       "      <td>0.026451</td>\n",
       "      <td>0.025374</td>\n",
       "      <td>0.019082</td>\n",
       "      <td>0.025231</td>\n",
       "      <td>0.031734</td>\n",
       "      <td>0.019814</td>\n",
       "      <td>0.029039</td>\n",
       "      <td>...</td>\n",
       "      <td>0.029760</td>\n",
       "      <td>0.017616</td>\n",
       "      <td>0.028304</td>\n",
       "      <td>0.032663</td>\n",
       "      <td>0.032454</td>\n",
       "      <td>0.032460</td>\n",
       "      <td>0.031553</td>\n",
       "      <td>0.031508</td>\n",
       "      <td>0.030350</td>\n",
       "      <td>40.5</td>\n",
       "    </tr>\n",
       "    <tr>\n",
       "      <th>1643</th>\n",
       "      <td>0.029417</td>\n",
       "      <td>0.025891</td>\n",
       "      <td>0.026917</td>\n",
       "      <td>0.026451</td>\n",
       "      <td>0.025374</td>\n",
       "      <td>0.019082</td>\n",
       "      <td>0.025231</td>\n",
       "      <td>0.031734</td>\n",
       "      <td>0.019814</td>\n",
       "      <td>0.029434</td>\n",
       "      <td>...</td>\n",
       "      <td>0.029760</td>\n",
       "      <td>0.017465</td>\n",
       "      <td>0.028304</td>\n",
       "      <td>0.032819</td>\n",
       "      <td>0.032296</td>\n",
       "      <td>0.032460</td>\n",
       "      <td>0.031553</td>\n",
       "      <td>0.031508</td>\n",
       "      <td>0.030350</td>\n",
       "      <td>40.5</td>\n",
       "    </tr>\n",
       "    <tr>\n",
       "      <th>1644</th>\n",
       "      <td>0.029417</td>\n",
       "      <td>0.025891</td>\n",
       "      <td>0.026917</td>\n",
       "      <td>0.026451</td>\n",
       "      <td>0.025374</td>\n",
       "      <td>0.019082</td>\n",
       "      <td>0.025231</td>\n",
       "      <td>0.031734</td>\n",
       "      <td>0.019814</td>\n",
       "      <td>0.029434</td>\n",
       "      <td>...</td>\n",
       "      <td>0.029760</td>\n",
       "      <td>0.017315</td>\n",
       "      <td>0.028304</td>\n",
       "      <td>0.032975</td>\n",
       "      <td>0.032454</td>\n",
       "      <td>0.032460</td>\n",
       "      <td>0.031553</td>\n",
       "      <td>0.031185</td>\n",
       "      <td>0.030350</td>\n",
       "      <td>40.5</td>\n",
       "    </tr>\n",
       "  </tbody>\n",
       "</table>\n",
       "<p>1645 rows × 97 columns</p>\n",
       "</div>"
      ],
      "text/plain": [
       "             0         0         0         0         0         0         0  \\\n",
       "0     0.021892  0.025182  0.023020  0.023413  0.018166  0.013252  0.026586   \n",
       "1     0.021892  0.025182  0.023020  0.023413  0.018166  0.013252  0.026586   \n",
       "2     0.021892  0.025182  0.023020  0.023413  0.018166  0.013252  0.026586   \n",
       "3     0.023260  0.025182  0.023020  0.023413  0.018166  0.013252  0.026586   \n",
       "4     0.023260  0.025182  0.023020  0.023413  0.018166  0.013252  0.026586   \n",
       "...        ...       ...       ...       ...       ...       ...       ...   \n",
       "1640  0.029417  0.025891  0.026917  0.026451  0.025374  0.019082  0.027670   \n",
       "1641  0.029417  0.025891  0.026917  0.026451  0.025374  0.019082  0.027670   \n",
       "1642  0.029417  0.025891  0.026917  0.026451  0.025374  0.019082  0.025231   \n",
       "1643  0.029417  0.025891  0.026917  0.026451  0.025374  0.019082  0.025231   \n",
       "1644  0.029417  0.025891  0.026917  0.026451  0.025374  0.019082  0.025231   \n",
       "\n",
       "             0         0         0  ...         0         0         0  \\\n",
       "0     0.014775  0.018433  0.017608  ...  0.021535  0.020176  0.020131   \n",
       "1     0.014775  0.018433  0.017608  ...  0.021685  0.020176  0.020131   \n",
       "2     0.014775  0.018433  0.017608  ...  0.021685  0.020176  0.020131   \n",
       "3     0.014775  0.018433  0.017608  ...  0.021685  0.020176  0.020131   \n",
       "4     0.014775  0.018433  0.017476  ...  0.021685  0.020176  0.020131   \n",
       "...        ...       ...       ...  ...       ...       ...       ...   \n",
       "1640  0.029019  0.019814  0.028514  ...  0.029760  0.028908  0.035721   \n",
       "1641  0.029019  0.019814  0.029039  ...  0.029760  0.028908  0.028304   \n",
       "1642  0.031734  0.019814  0.029039  ...  0.029760  0.017616  0.028304   \n",
       "1643  0.031734  0.019814  0.029434  ...  0.029760  0.017465  0.028304   \n",
       "1644  0.031734  0.019814  0.029434  ...  0.029760  0.017315  0.028304   \n",
       "\n",
       "             0         0         0         0         0         0     0  \n",
       "0     0.023051  0.023253  0.023333  0.022645  0.021564  0.021440  27.5  \n",
       "1     0.023051  0.023206  0.023285  0.022789  0.021516  0.021440  27.5  \n",
       "2     0.023051  0.023285  0.023285  0.022789  0.021516  0.021440  27.5  \n",
       "3     0.023051  0.023285  0.023285  0.023029  0.021483  0.021423  27.5  \n",
       "4     0.023051  0.023159  0.023285  0.023029  0.021483  0.021423  27.5  \n",
       "...        ...       ...       ...       ...       ...       ...   ...  \n",
       "1640  0.032663  0.032217  0.032460  0.031553  0.030138  0.030350  40.5  \n",
       "1641  0.032663  0.032296  0.032460  0.031553  0.030138  0.030350  40.5  \n",
       "1642  0.032663  0.032454  0.032460  0.031553  0.031508  0.030350  40.5  \n",
       "1643  0.032819  0.032296  0.032460  0.031553  0.031508  0.030350  40.5  \n",
       "1644  0.032975  0.032454  0.032460  0.031553  0.031185  0.030350  40.5  \n",
       "\n",
       "[1645 rows x 97 columns]"
      ]
     },
     "execution_count": 268,
     "metadata": {},
     "output_type": "execute_result"
    }
   ],
   "source": [
    "oridata_ex"
   ]
  },
  {
   "cell_type": "markdown",
   "metadata": {
    "id": "e011442e-c85c-4e62-8de7-a94f6089881d"
   },
   "source": [
    "### 資料依據 step 打包"
   ]
  },
  {
   "cell_type": "code",
   "execution_count": 239,
   "metadata": {
    "id": "afe1be4e-6347-4bb7-a250-cf09708b3330"
   },
   "outputs": [],
   "source": [
    "# n_window 表示用之前幾天（例如前30天）\n",
    "# n_steps 表示預測之後幾天（例如一天）\n",
    "\n",
    "def split_sequences(sequences, n_steps, n_window):\n",
    "    X, y = list(), list()\n",
    "    L = len(sequences)//n_steps #資料長度會分成多少個steps\n",
    "    for i in range(L):\n",
    "        # find the end of this pattern \n",
    "        j = i*n_steps #j為每次包資料的起始點\n",
    "        win_ix = j + n_window # 每個 window 的終點 aka 預測的 step 起點\n",
    "        end_ix = win_ix + n_steps # 每個預測 step 的終點\n",
    "        # check if we are beyond the dataset\n",
    "        if end_ix+1 > len(sequences):\n",
    "            break\n",
    "        # gather input and output parts of the pattern\n",
    "        # 每包資料的 x 所有的屬性，總共 18 個 normalized 後的特徵包含價格\n",
    "        # 假如 x 用前 30 天的資料，y 就會是第 31 天的真實價格值\n",
    "        seq_x, seq_y = sequences[j:win_ix, :-1], sequences[win_ix:end_ix,-1]\n",
    "        X.append(seq_x)\n",
    "        y.append(seq_y)\n",
    "    return array(X,dtype=float), array(y,dtype=float)"
   ]
  },
  {
   "cell_type": "code",
   "execution_count": 167,
   "metadata": {},
   "outputs": [],
   "source": [
    "## 一次預測 step 天 Ｖ\n",
    "\n",
    "def split_sequences_w(sequences, n_steps, n_window):\n",
    "    X, y = list(), list()\n",
    "    L = len(sequences)//n_steps #資料長度有幾週\n",
    "    for i in range(L):\n",
    "        # find the end of this pattern \n",
    "        j = i*n_steps\n",
    "        win_ix = j + n_window\n",
    "        end_ix = win_ix + n_steps\n",
    "        # check if we are beyond the dataset\n",
    "        if end_ix+1 > len(sequences):\n",
    "            break\n",
    "        # gather input and output parts of the pattern\n",
    "        seq_x, seq_y = sequences[j:win_ix, :-1], sequences[win_ix:end_ix,-1]\n",
    "        X.append(seq_x)\n",
    "        y.append(seq_y)\n",
    "    return array(X,dtype=float), array(y,dtype=float)"
   ]
  },
  {
   "cell_type": "markdown",
   "metadata": {
    "id": "7aa06fab-efe3-4c4a-bb05-98d46686d5e4"
   },
   "source": [
    "### Define CNN"
   ]
  },
  {
   "cell_type": "code",
   "execution_count": 241,
   "metadata": {
    "id": "40f1a7ea-3488-46ae-a8cf-5fb6bfe78413"
   },
   "outputs": [],
   "source": [
    "# define model\n",
    "class CNN(torch.nn.Module):\n",
    "    def __init__(self):\n",
    "        # call the parent constructor\n",
    "        super().__init__()\n",
    "\n",
    "        self.Conv1 = torch.nn.Conv1d(in_channels=n_features, out_channels=36, kernel_size=5, stride=1) # output shape(batch*36*(window-kernel+1))\n",
    "        self.ReLu1 = torch.nn.ReLU()\n",
    "        self.Conv2 = torch.nn.Conv1d(in_channels=36, out_channels=18, kernel_size=5, stride=1)# output shape(batch*18*22)\n",
    "        self.ReLu2 = torch.nn.ReLU()\n",
    "        self.MaxPool = torch.nn.MaxPool1d(kernel_size=(n_windows-10+2)) \n",
    "        self.linear = torch.nn.Linear(18, n_steps)# output shape(batch*18*n_steps) 亦即預測幾天就 output 幾天\n",
    "\n",
    "    def forward(self, x):\n",
    "        x = x.permute(0,2,1)\n",
    "        x = self.Conv1(x)\n",
    "        x = self.ReLu1(x)\n",
    "        x = self.Conv2(x)\n",
    "        x = self.ReLu2(x)\n",
    "        x = self.MaxPool(x)\n",
    "        x = x.view(-1,x.size(1))\n",
    "        x = self.linear(x)\n",
    "        return x"
   ]
  },
  {
   "cell_type": "markdown",
   "metadata": {
    "id": "289ae11a-f1cf-4af8-8806-f3d8989a4752"
   },
   "source": [
    "### MSPE"
   ]
  },
  {
   "cell_type": "code",
   "execution_count": 14,
   "metadata": {
    "id": "260027a1-d7a2-49b2-bf1e-ccc564706931"
   },
   "outputs": [],
   "source": [
    "def MSPE(pred, labels):\n",
    "\n",
    "    # l1_or = torch.nn.L1Loss(reduction=\"none\")\n",
    "\n",
    "    pred = pred.to(device)\n",
    "    labels = labels.to(device)\n",
    "    diff = pred - labels\n",
    "    result = torch.mean(torch.pow(diff/labels , 2))\n",
    "\n",
    "    return result"
   ]
  },
  {
   "cell_type": "markdown",
   "metadata": {
    "id": "9243a5f6-27c5-47ee-8f58-4609e2418bc5"
   },
   "source": [
    "### Define Train"
   ]
  },
  {
   "cell_type": "code",
   "execution_count": 113,
   "metadata": {
    "id": "ac89defa-62c9-4aa0-975c-5f7ad0a112df"
   },
   "outputs": [],
   "source": [
    "def train(trainloader, model, optimizer, epochs) :\n",
    "\n",
    "    loss_MSE = torch.nn.MSELoss(reduction=\"mean\")\n",
    "    # loss_SSE = torch.nn.MSELoss(reduction=\"sum\")\n",
    "    # criterion = torch.nn.CrossEntropyLoss()\n",
    "\n",
    "    train_rmse_list = []\n",
    "    output_list = []\n",
    "    train_rmse = 0\n",
    "    train_mse = 0\n",
    "    val_rmse = 0\n",
    "    best_tra_rmse = 20\n",
    "    step_cnt = 0\n",
    "    best_step_cnt = 0\n",
    "\n",
    "\n",
    "    for epoch in tqdm(range(epochs)):\n",
    "\n",
    "        # Set current loss value\n",
    "        train_loss = 0\n",
    "\n",
    "        # Iterate over data in train loader\n",
    "        for i, (inputs, labels) in enumerate(trainloader):\n",
    "\n",
    "            inputs = inputs.to(device)\n",
    "            labels = labels.to(device)\n",
    "            labels = labels.reshape((-1, 1))\n",
    "#             print(\"label shape\", labels.shape)\n",
    "            step_cnt += 1\n",
    "            model.train()\n",
    "\n",
    "            optimizer.zero_grad()\n",
    "            outputs = model(inputs)\n",
    "            # output_list.append(outputs)\n",
    "            outputs = outputs.reshape((-1, 1))\n",
    "            train_loss = loss_MSE(outputs, labels)\n",
    "            train_loss.backward()\n",
    "            optimizer.step()\n",
    "\n",
    "             #每 100 個 batch 算一次\n",
    "            if (step_cnt % 100 == 0):\n",
    "                train_mse = loss_MSE(outputs, labels)\n",
    "                train_rmse = torch.sqrt(train_mse)\n",
    "                train_rmse_list.append(train_rmse)\n",
    "\n",
    "                if (train_rmse < best_tra_rmse):\n",
    "                    # step_after_best = 0\n",
    "                    best_step_cnt = step_cnt\n",
    "                    best_tra_rmse = train_rmse\n",
    "                    torch.save(model, 'best_model.pt') # Save model parameters\n",
    "\n",
    "\n",
    "    return best_step_cnt, best_tra_rmse, train_rmse_list, output_list"
   ]
  },
  {
   "cell_type": "markdown",
   "metadata": {
    "id": "3f4289fd-da35-4972-a43c-3e8e4566586a"
   },
   "source": [
    "### define test"
   ]
  },
  {
   "cell_type": "code",
   "execution_count": 171,
   "metadata": {
    "id": "5967cea9-f88b-43af-a051-8616759b8679"
   },
   "outputs": [],
   "source": [
    "def test(testloader, model):\n",
    "    loss_MSE = torch.nn.MSELoss(reduction=\"mean\")\n",
    "    test_count = 0\n",
    "    mse_test = 0\n",
    "    mspe_test = 0\n",
    "    outputlist = []\n",
    "    for i, (x_test, y_test) in enumerate(testloader):\n",
    "        test_count+=1\n",
    "#         x_test, y_test = data\n",
    "        x_test = x_test.to(device)\n",
    "        y_test = y_test.to(device)\n",
    "        op_test = model(x_test)\n",
    "#         print(\"before pred, y_data shape:\",op_test.shape,y_test.shape)\n",
    "        \n",
    "        y_test = y_test.reshape((-1, 1))\n",
    "        op_test = op_test.reshape((-1, 1))\n",
    "        \n",
    "#         print(\"after pred, y_data shape:\",op_test.shape,y_test.shape)\n",
    "        \n",
    "        outputlist.append(op_test)\n",
    "\n",
    "        mse_test += loss_MSE(op_test,y_test)\n",
    "        mspe_test += MSPE(op_test,y_test)\n",
    "    MSE_test = mse_test/test_count\n",
    "    MSPE_test = mspe_test/test_count\n",
    "    RMSE_test = torch.sqrt(MSE_test)\n",
    "    return MSE_test, RMSE_test, MSPE_test,outputlist"
   ]
  },
  {
   "cell_type": "markdown",
   "metadata": {},
   "source": [
    "### Define Drawing Plot"
   ]
  },
  {
   "cell_type": "code",
   "execution_count": 145,
   "metadata": {},
   "outputs": [],
   "source": [
    "def TestPlot(output,trainsize):\n",
    "    \n",
    "    fig = plt.figure(figsize=(12, 6))\n",
    "\n",
    "    plt.title(f\"CNN - EggPrice\")\n",
    "    testrange = trainsize+len(output)\n",
    "    newdate_train = pd.to_datetime(rawdata['Date'][:trainsize])\n",
    "    newdate_test = pd.to_datetime(rawdata['Date'][trainsize:testrange])\n",
    "    fig.gca().xaxis.set_major_formatter(mdates.DateFormatter('%Y')) #設定x軸主刻度顯示格式（日期）\n",
    "    # fig.gca().xaxis.set_major_locator(mdates.DayLocator(interval=14)) #設定x軸主刻度間距\n",
    "\n",
    "    # plt.xlim([2018, 2023])\n",
    "\n",
    "    x_train = newdate_train\n",
    "    y_train = orid['egg_TaijinPrice'][:trainsize]\n",
    "    plt.plot(x_train, y_train, 'b', linewidth=1, label=\"Train\")\n",
    "\n",
    "    x_test = newdate_test\n",
    "    y_test = orid['egg_TaijinPrice'][trainsize:testrange]\n",
    "    plt.plot(x_test,y_test, 'y', linewidth=1, label=\"Test\")\n",
    "\n",
    "    y_pred = output\n",
    "    plt.plot(x_test ,y_pred, 'r', linewidth=1, label=\"Predict\")\n",
    "\n",
    "    plt.xlabel(\"Date\")\n",
    "    plt.ylabel(\"EggPrice\")\n",
    "    plt.legend()"
   ]
  },
  {
   "cell_type": "markdown",
   "metadata": {},
   "source": [
    "### Drawing training RMSE"
   ]
  },
  {
   "cell_type": "code",
   "execution_count": 55,
   "metadata": {},
   "outputs": [],
   "source": [
    "def trainingRMSE(train_RMSE):\n",
    "    \n",
    "    fig = plt.figure(figsize=(12, 6))\n",
    "\n",
    "    plt.title(f\"Training RMSE\")\n",
    "\n",
    "    x = range(1, len(train_RMSE)+1)\n",
    "\n",
    "    x_train = list(x)\n",
    "    y_train = train_RMSE\n",
    "    plt.plot(x_train, y_train, 'b', linewidth=1, label=\"Training\")\n",
    "\n",
    "\n",
    "    plt.xlabel(\"each 100 batch\")\n",
    "    plt.ylabel(\"\")\n",
    "    plt.legend()"
   ]
  },
  {
   "cell_type": "markdown",
   "metadata": {
    "id": "3KRzoyCloXsx"
   },
   "source": [
    "### 預測 2022 蛋價, step = 30, time_unit = day"
   ]
  },
  {
   "cell_type": "code",
   "execution_count": 78,
   "metadata": {
    "colab": {
     "base_uri": "https://localhost:8080/"
    },
    "id": "2068bead-b209-4349-a586-93ce38489bc6",
    "outputId": "2c680ff2-d7c0-4845-8e00-4b1b3a8fe068"
   },
   "outputs": [
    {
     "name": "stdout",
     "output_type": "stream",
     "text": [
      "len of dataset:  1796\n"
     ]
    },
    {
     "data": {
      "text/plain": [
       "1431"
      ]
     },
     "execution_count": 78,
     "metadata": {},
     "output_type": "execute_result"
    }
   ],
   "source": [
    "# choose a number of time steps\n",
    "n_steps = 30\n",
    "# convert into input/output\n",
    "dataset_ar = np.array(oridata)\n",
    "dataset_x, dataset_y = split_sequences(dataset_ar, n_steps)\n",
    "\n",
    "print(\"len of dataset: \", len(dataset_x))\n",
    "trainsize = len(dataset_x)-365\n",
    "trainsize"
   ]
  },
  {
   "cell_type": "code",
   "execution_count": 79,
   "metadata": {
    "colab": {
     "base_uri": "https://localhost:8080/"
    },
    "id": "b3e2bd88-3be7-4409-84c6-13b511a13c8e",
    "outputId": "74287201-51b0-42ed-b27f-1ec75f9a3b09"
   },
   "outputs": [
    {
     "name": "stdout",
     "output_type": "stream",
     "text": [
      "Train data shape:  (1431, 30, 18) (1431,)\n",
      "Test data shape:  (365, 30, 18) (365,)\n"
     ]
    }
   ],
   "source": [
    "### Test 2022 的情況\n",
    "\n",
    "Train_x = dataset_x[0:trainsize].astype('float32')\n",
    "Train_y = dataset_y[0:trainsize].astype('float32')\n",
    "Test_x = dataset_x[trainsize:].astype('float32')\n",
    "Test_y = dataset_y[trainsize:].astype('float32')\n",
    "\n",
    "print(\"Train data shape: \",  Train_x.shape, Train_y.shape)\n",
    "print(\"Test data shape: \",  Test_x.shape, Test_y.shape)"
   ]
  },
  {
   "cell_type": "code",
   "execution_count": 80,
   "metadata": {
    "id": "9d003b2b-775a-4bfd-ad9f-0e625397d752"
   },
   "outputs": [],
   "source": [
    "Trainset = TensorDataset(torch.from_numpy(Train_x), torch.from_numpy(Train_y))\n",
    "Testset = TensorDataset(torch.from_numpy(Test_x), torch.from_numpy(Test_y))\n",
    "trainloader = DataLoader(Trainset, batch_size=32, shuffle=False, num_workers=0)\n",
    "testloader = DataLoader(Testset, batch_size=32, shuffle=False, num_workers=0)"
   ]
  },
  {
   "cell_type": "code",
   "execution_count": 84,
   "metadata": {
    "colab": {
     "base_uri": "https://localhost:8080/"
    },
    "id": "208c6226-04d6-43e5-b9ef-4a13c9f952e0",
    "outputId": "5c45713a-c883-489a-d0dc-6d40f6e95433"
   },
   "outputs": [
    {
     "name": "stderr",
     "output_type": "stream",
     "text": [
      "100%|██████████| 100/100 [00:11<00:00,  9.07it/s]"
     ]
    },
    {
     "name": "stdout",
     "output_type": "stream",
     "text": [
      "best_step_cnt:  3800\n",
      "best_tra_rmse:  tensor(1.4510, device='cuda:0', grad_fn=<SqrtBackward0>)\n"
     ]
    },
    {
     "name": "stderr",
     "output_type": "stream",
     "text": [
      "\n"
     ]
    }
   ],
   "source": [
    "n_features = Train_x.shape[2]\n",
    "# import train\n",
    "\n",
    "model = CNN()\n",
    "model.to(device)\n",
    "optimizer = optim.Adam(model.parameters(), lr=1e-5)\n",
    "epochs = 100\n",
    "\n",
    "### train\n",
    "\n",
    "best_step_cnt, best_tra_rmse, train_rmse_list, output_list = train(trainloader, model, optimizer, epochs)\n",
    "\n",
    "print(\"best_step_cnt: \",best_step_cnt)\n",
    "print(\"best_tra_rmse: \",best_tra_rmse)"
   ]
  },
  {
   "cell_type": "code",
   "execution_count": 85,
   "metadata": {
    "colab": {
     "base_uri": "https://localhost:8080/"
    },
    "id": "_T0tnl3PuSV7",
    "outputId": "21aafd4c-d108-4521-e8d5-921e09d7e10b"
   },
   "outputs": [
    {
     "name": "stderr",
     "output_type": "stream",
     "text": [
      "  0%|          | 0/12 [00:00<?, ?it/s]/usr/local/lib/python3.10/dist-packages/torch/nn/modules/loss.py:535: UserWarning: Using a target size (torch.Size([32])) that is different to the input size (torch.Size([32, 1])). This will likely lead to incorrect results due to broadcasting. Please ensure they have the same size.\n",
      "  return F.mse_loss(input, target, reduction=self.reduction)\n",
      "/usr/local/lib/python3.10/dist-packages/torch/nn/modules/loss.py:535: UserWarning: Using a target size (torch.Size([13])) that is different to the input size (torch.Size([13, 1])). This will likely lead to incorrect results due to broadcasting. Please ensure they have the same size.\n",
      "  return F.mse_loss(input, target, reduction=self.reduction)\n",
      "100%|██████████| 12/12 [00:00<00:00, 522.30it/s]"
     ]
    },
    {
     "name": "stdout",
     "output_type": "stream",
     "text": [
      "\n",
      " Test MSE: tensor(4.6769, device='cuda:0', grad_fn=<DivBackward0>)\n",
      "Test RMSE: tensor(2.1626, device='cuda:0', grad_fn=<SqrtBackward0>)\n",
      "Test MSPE: tensor(0.0030, device='cuda:0', grad_fn=<DivBackward0>)\n"
     ]
    },
    {
     "name": "stderr",
     "output_type": "stream",
     "text": [
      "\n"
     ]
    }
   ],
   "source": [
    "# Test\n",
    "model = torch.load('best_model.pt')\n",
    "model.eval()\n",
    "MSE_test, RMSE_test, MSPE_test,outputlist = test(testloader, model)\n",
    "print(\"\\n\",\"Test MSE:\", MSE_test)\n",
    "print(\"Test RMSE:\", RMSE_test)\n",
    "print(\"Test MSPE:\", MSPE_test)"
   ]
  },
  {
   "cell_type": "code",
   "execution_count": 102,
   "metadata": {
    "colab": {
     "base_uri": "https://localhost:8080/"
    },
    "id": "4O1RSzj-wBXF",
    "outputId": "c3b783bb-1e5d-4ed9-ffbc-a40d8732e6f0"
   },
   "outputs": [
    {
     "data": {
      "text/plain": [
       "[32.81120300292969,\n",
       " 32.812313079833984,\n",
       " 32.81423568725586,\n",
       " 32.81656265258789,\n",
       " 32.81975173950195,\n",
       " 32.82308578491211,\n",
       " 32.82550811767578,\n",
       " 32.827491760253906,\n",
       " 32.829368591308594,\n",
       " 32.83085250854492,\n",
       " 32.83205795288086,\n",
       " 32.833011627197266,\n",
       " 32.83425521850586,\n",
       " 32.835235595703125,\n",
       " 32.83573532104492,\n",
       " 32.83592224121094,\n",
       " 32.83596420288086,\n",
       " 32.83596420288086,\n",
       " 32.83596420288086,\n",
       " 32.83596420288086,\n",
       " 32.83596420288086,\n",
       " 32.83596420288086,\n",
       " 32.83596420288086,\n",
       " 32.83596420288086,\n",
       " 32.83596420288086,\n",
       " 32.83596420288086,\n",
       " 32.83596420288086,\n",
       " 32.83596420288086,\n",
       " 32.83596420288086,\n",
       " 32.83596420288086,\n",
       " 32.83596420288086,\n",
       " 32.83596420288086,\n",
       " 32.83596420288086,\n",
       " 32.83596420288086,\n",
       " 32.83596420288086,\n",
       " 32.83596420288086,\n",
       " 32.83596420288086,\n",
       " 32.83586883544922,\n",
       " 32.83541488647461,\n",
       " 32.83481979370117,\n",
       " 32.834346771240234,\n",
       " 32.83419418334961,\n",
       " 32.83419418334961,\n",
       " 32.83419418334961,\n",
       " 32.836036682128906,\n",
       " 33.057552337646484,\n",
       " 33.29655838012695,\n",
       " 33.565879821777344,\n",
       " 33.911563873291016,\n",
       " 34.24733352661133,\n",
       " 34.50777816772461,\n",
       " 34.65816116333008,\n",
       " 34.733089447021484,\n",
       " 34.73323059082031,\n",
       " 34.733726501464844,\n",
       " 34.734066009521484,\n",
       " 34.73429489135742,\n",
       " 34.73429489135742,\n",
       " 34.73429489135742,\n",
       " 34.73429489135742,\n",
       " 34.73429489135742,\n",
       " 34.73429489135742,\n",
       " 34.73429489135742,\n",
       " 34.73429489135742,\n",
       " 34.73429489135742,\n",
       " 34.73429489135742,\n",
       " 34.73429489135742,\n",
       " 34.73429489135742,\n",
       " 34.73429489135742,\n",
       " 34.73429489135742,\n",
       " 34.73429489135742,\n",
       " 34.73429489135742,\n",
       " 34.73429489135742,\n",
       " 34.73429489135742,\n",
       " 34.73429489135742,\n",
       " 34.73429489135742,\n",
       " 34.734188079833984,\n",
       " 34.77534103393555,\n",
       " 34.91427993774414,\n",
       " 35.15159225463867,\n",
       " 35.42030334472656,\n",
       " 35.766517639160156,\n",
       " 36.103981018066406,\n",
       " 36.365657806396484,\n",
       " 36.517704010009766,\n",
       " 36.593902587890625,\n",
       " 36.5951042175293,\n",
       " 36.59524154663086,\n",
       " 36.59536361694336,\n",
       " 36.59611511230469,\n",
       " 36.59611511230469,\n",
       " 36.59626770019531,\n",
       " 36.59626770019531,\n",
       " 36.59626770019531,\n",
       " 36.59626770019531,\n",
       " 36.59626770019531,\n",
       " 36.59626770019531,\n",
       " 36.596290588378906,\n",
       " 36.596290588378906,\n",
       " 36.596290588378906,\n",
       " 36.596290588378906,\n",
       " 36.596290588378906,\n",
       " 36.596290588378906,\n",
       " 36.596290588378906,\n",
       " 36.596290588378906,\n",
       " 36.596290588378906,\n",
       " 36.596290588378906,\n",
       " 36.596290588378906,\n",
       " 36.59623336791992,\n",
       " 36.59664535522461,\n",
       " 36.669742584228516,\n",
       " 36.81020736694336,\n",
       " 37.047672271728516,\n",
       " 37.31625747680664,\n",
       " 37.66166305541992,\n",
       " 37.99787521362305,\n",
       " 38.258785247802734,\n",
       " 38.40919494628906,\n",
       " 38.48431396484375,\n",
       " 38.48431396484375,\n",
       " 38.484317779541016,\n",
       " 38.48448181152344,\n",
       " 38.4849853515625,\n",
       " 38.4853515625,\n",
       " 38.48624038696289,\n",
       " 38.4866943359375,\n",
       " 38.487369537353516,\n",
       " 38.487369537353516,\n",
       " 38.487369537353516,\n",
       " 38.487369537353516,\n",
       " 38.487369537353516,\n",
       " 38.487369537353516,\n",
       " 38.487369537353516,\n",
       " 38.48781204223633,\n",
       " 38.48893356323242,\n",
       " 38.49091720581055,\n",
       " 38.493350982666016,\n",
       " 38.4954833984375,\n",
       " 38.50021743774414,\n",
       " 38.501747131347656,\n",
       " 38.50405502319336,\n",
       " 38.50405502319336,\n",
       " 38.50405502319336,\n",
       " 38.50405502319336,\n",
       " 38.50405502319336,\n",
       " 38.50405502319336,\n",
       " 38.50405502319336,\n",
       " 38.50405502319336,\n",
       " 38.50405502319336,\n",
       " 38.50405502319336,\n",
       " 38.50409698486328,\n",
       " 38.50566482543945,\n",
       " 38.50566482543945,\n",
       " 38.50605392456055,\n",
       " 38.50617980957031,\n",
       " 38.50617980957031,\n",
       " 38.50617980957031,\n",
       " 38.50617980957031,\n",
       " 38.50679016113281,\n",
       " 38.50797653198242,\n",
       " 38.509883880615234,\n",
       " 38.51174545288086,\n",
       " 38.512577056884766,\n",
       " 38.513187408447266,\n",
       " 38.513187408447266,\n",
       " 38.513187408447266,\n",
       " 38.513187408447266,\n",
       " 38.513187408447266,\n",
       " 38.513187408447266,\n",
       " 38.513187408447266,\n",
       " 38.513187408447266,\n",
       " 38.513187408447266,\n",
       " 38.513187408447266,\n",
       " 38.513187408447266,\n",
       " 38.513187408447266,\n",
       " 38.513187408447266,\n",
       " 38.51321792602539,\n",
       " 38.51327133178711,\n",
       " 38.5142707824707,\n",
       " 38.51483917236328,\n",
       " 38.516422271728516,\n",
       " 38.516578674316406,\n",
       " 38.5169563293457,\n",
       " 38.51749038696289,\n",
       " 38.51749038696289,\n",
       " 38.51749038696289,\n",
       " 38.51749038696289,\n",
       " 38.51749038696289,\n",
       " 38.51749038696289,\n",
       " 38.51749038696289,\n",
       " 38.51749038696289,\n",
       " 38.51749038696289,\n",
       " 38.51749038696289,\n",
       " 38.51749038696289,\n",
       " 38.51749038696289,\n",
       " 38.51749038696289,\n",
       " 38.51749038696289,\n",
       " 38.51749038696289,\n",
       " 38.51749038696289,\n",
       " 38.51749038696289,\n",
       " 38.51749038696289,\n",
       " 38.56650924682617,\n",
       " 38.705078125,\n",
       " 38.94169998168945,\n",
       " 39.20967483520508,\n",
       " 39.55459213256836,\n",
       " 39.89081573486328,\n",
       " 40.15212631225586,\n",
       " 40.30276107788086,\n",
       " 40.37799072265625,\n",
       " 40.37799072265625,\n",
       " 40.37799072265625,\n",
       " 40.37799072265625,\n",
       " 40.37799072265625,\n",
       " 40.37799072265625,\n",
       " 40.37799072265625,\n",
       " 40.37799072265625,\n",
       " 40.37799072265625,\n",
       " 40.37799072265625,\n",
       " 40.37799072265625,\n",
       " 40.37799072265625,\n",
       " 40.37799072265625,\n",
       " 40.37799072265625,\n",
       " 40.37799072265625,\n",
       " 40.37799072265625,\n",
       " 40.37799072265625,\n",
       " 40.37799072265625,\n",
       " 40.37799072265625,\n",
       " 40.37799072265625,\n",
       " 40.37799072265625,\n",
       " 40.37799072265625,\n",
       " 40.37765121459961,\n",
       " 40.37748336791992,\n",
       " 40.37835693359375,\n",
       " 40.37845993041992,\n",
       " 40.378658294677734,\n",
       " 40.378658294677734,\n",
       " 40.378658294677734,\n",
       " 40.378658294677734,\n",
       " 40.378658294677734,\n",
       " 40.378658294677734,\n",
       " 40.378658294677734,\n",
       " 40.378658294677734,\n",
       " 40.38029479980469,\n",
       " 40.3822021484375,\n",
       " 40.38576889038086,\n",
       " 40.38604736328125,\n",
       " 40.3862419128418,\n",
       " 40.3862419128418,\n",
       " 40.3862419128418,\n",
       " 40.3862419128418,\n",
       " 40.3862419128418,\n",
       " 40.3862419128418,\n",
       " 40.3862419128418,\n",
       " 40.3862419128418,\n",
       " 40.3862419128418,\n",
       " 40.3862419128418,\n",
       " 40.3862419128418,\n",
       " 40.3862419128418,\n",
       " 40.3862419128418,\n",
       " 40.3862419128418,\n",
       " 40.3862419128418,\n",
       " 40.3862419128418,\n",
       " 40.3862419128418,\n",
       " 40.3862419128418,\n",
       " 40.3862419128418,\n",
       " 40.385860443115234,\n",
       " 40.3840446472168,\n",
       " 40.38319396972656,\n",
       " 40.38148880004883,\n",
       " 40.379878997802734,\n",
       " 40.37938690185547,\n",
       " 40.3798713684082,\n",
       " 40.37995529174805,\n",
       " 40.38007736206055,\n",
       " 40.38029861450195,\n",
       " 40.380374908447266,\n",
       " 40.380374908447266,\n",
       " 40.380374908447266,\n",
       " 40.380374908447266,\n",
       " 40.380374908447266,\n",
       " 40.380374908447266,\n",
       " 40.380374908447266,\n",
       " 40.380374908447266,\n",
       " 40.380374908447266,\n",
       " 40.380374908447266,\n",
       " 40.380374908447266,\n",
       " 40.380374908447266,\n",
       " 40.380374908447266,\n",
       " 40.380374908447266,\n",
       " 40.380374908447266,\n",
       " 40.380374908447266,\n",
       " 40.380374908447266,\n",
       " 40.380374908447266,\n",
       " 40.380374908447266,\n",
       " 40.380374908447266,\n",
       " 40.380374908447266,\n",
       " 40.38027572631836,\n",
       " 40.30817794799805,\n",
       " 40.168880462646484,\n",
       " 39.9318733215332,\n",
       " 39.663333892822266,\n",
       " 39.317501068115234,\n",
       " 38.9806022644043,\n",
       " 38.718631744384766,\n",
       " 38.56708908081055,\n",
       " 38.494319915771484,\n",
       " 38.494319915771484,\n",
       " 38.494319915771484,\n",
       " 38.494319915771484,\n",
       " 38.494319915771484,\n",
       " 38.494319915771484,\n",
       " 38.494319915771484,\n",
       " 38.494319915771484,\n",
       " 38.494319915771484,\n",
       " 38.494319915771484,\n",
       " 38.49431228637695,\n",
       " 38.49422073364258,\n",
       " 38.493595123291016,\n",
       " 38.49304962158203,\n",
       " 38.49239730834961,\n",
       " 38.4920539855957,\n",
       " 38.49195098876953,\n",
       " 38.49195098876953,\n",
       " 38.49195098876953,\n",
       " 38.49195098876953,\n",
       " 38.49185562133789,\n",
       " 38.49142074584961,\n",
       " 38.490413665771484,\n",
       " 38.48884582519531,\n",
       " 38.48573303222656,\n",
       " 38.48490905761719,\n",
       " 38.4852294921875,\n",
       " 38.48549270629883,\n",
       " 38.485618591308594,\n",
       " 38.485618591308594,\n",
       " 38.485618591308594,\n",
       " 38.485618591308594,\n",
       " 38.485618591308594,\n",
       " 38.485618591308594,\n",
       " 38.485618591308594,\n",
       " 38.485618591308594,\n",
       " 38.485618591308594,\n",
       " 38.485618591308594,\n",
       " 38.485618591308594,\n",
       " 38.485618591308594,\n",
       " 38.485618591308594,\n",
       " 38.485618591308594,\n",
       " 38.485618591308594,\n",
       " 38.485618591308594,\n",
       " 38.485618591308594,\n",
       " 38.485618591308594,\n",
       " 38.485618591308594,\n",
       " 38.4854736328125,\n",
       " 38.48539352416992,\n",
       " 38.48524856567383,\n",
       " 38.4844970703125,\n",
       " 38.48354721069336,\n",
       " 38.48238754272461,\n",
       " 38.48188400268555,\n",
       " 38.48187255859375,\n",
       " 38.48187255859375,\n",
       " 38.48187255859375,\n",
       " 38.48187255859375,\n",
       " 38.48187255859375]"
      ]
     },
     "execution_count": 102,
     "metadata": {},
     "output_type": "execute_result"
    }
   ],
   "source": [
    "output = []\n",
    "for i in outputlist:\n",
    "  for j in i:\n",
    "    j = float(j)\n",
    "    output.append(j)"
   ]
  },
  {
   "cell_type": "code",
   "execution_count": 103,
   "metadata": {
    "colab": {
     "base_uri": "https://localhost:8080/",
     "height": 582
    },
    "id": "nbWE3B31jVba",
    "outputId": "03613c37-9122-46f0-88a2-1d7b0a565c56"
   },
   "outputs": [
    {
     "data": {
      "text/plain": [
       "<matplotlib.legend.Legend at 0x7a01788b6470>"
      ]
     },
     "execution_count": 103,
     "metadata": {},
     "output_type": "execute_result"
    },
    {
     "data": {
      "image/png": "[encoded data removed]",
      "text/plain": [
       "<Figure size 1200x600 with 1 Axes>"
      ]
     },
     "metadata": {},
     "output_type": "display_data"
    }
   ],
   "source": [
    "import matplotlib.dates as mdates\n",
    "fig = plt.figure(figsize=(12, 6))\n",
    "\n",
    "plt.title(f\"CNN - EggPrice\")\n",
    "\n",
    "newdate_train = pd.to_datetime(rawdata['Date'][:1461])\n",
    "newdate_test = pd.to_datetime(rawdata['Date'][1461:])\n",
    "fig.gca().xaxis.set_major_formatter(mdates.DateFormatter('%Y')) #設定x軸主刻度顯示格式（日期）\n",
    "# fig.gca().xaxis.set_major_locator(mdates.DayLocator(interval=14)) #設定x軸主刻度間距\n",
    "\n",
    "# plt.xlim([2018, 2023])\n",
    "\n",
    "x_train = newdate_train\n",
    "y_train = orid['egg_TaijinPrice'][:1461]\n",
    "plt.plot(x_train, y_train, 'b', linewidth=1, label=\"Train\")\n",
    "\n",
    "x_test = newdate_test\n",
    "y_test = orid['egg_TaijinPrice'][1461:]\n",
    "plt.plot(x_test,y_test, 'y', linewidth=1, label=\"Test\")\n",
    "\n",
    "y_pred = output\n",
    "plt.plot(x_test ,y_pred, 'r', linewidth=1, label=\"Predict\")\n",
    "\n",
    "plt.xlabel(\"Date\")\n",
    "plt.ylabel(\"EggPrice\")\n",
    "plt.legend()"
   ]
  },
  {
   "cell_type": "code",
   "execution_count": 104,
   "metadata": {
    "id": "B8Nt0NEmn7YG"
   },
   "outputs": [],
   "source": [
    "train_RMSE = []\n",
    "for i in train_rmse_list:\n",
    "  train_RMSE.append(float(i))"
   ]
  },
  {
   "cell_type": "code",
   "execution_count": 105,
   "metadata": {
    "colab": {
     "base_uri": "https://localhost:8080/",
     "height": 582
    },
    "id": "VyT1R_etjF0A",
    "outputId": "140a5e99-4b15-4141-99cb-cbf04b90f23c"
   },
   "outputs": [
    {
     "data": {
      "text/plain": [
       "<matplotlib.legend.Legend at 0x7a0178929e40>"
      ]
     },
     "execution_count": 105,
     "metadata": {},
     "output_type": "execute_result"
    },
    {
     "data": {
      "image/png": "[encoded data removed]",
      "text/plain": [
       "<Figure size 1200x600 with 1 Axes>"
      ]
     },
     "metadata": {},
     "output_type": "display_data"
    }
   ],
   "source": [
    "import matplotlib.pyplot as plt\n",
    "\n",
    "fig = plt.figure(figsize=(12, 6))\n",
    "\n",
    "plt.title(f\"Training RMSE\")\n",
    "\n",
    "x = range(1, len(train_RMSE)+1)\n",
    "\n",
    "x_train = list(x)\n",
    "y_train = train_RMSE\n",
    "plt.plot(x_train, y_train, 'b', linewidth=1, label=\"Training\")\n",
    "\n",
    "\n",
    "plt.xlabel(\"each 100 batch\")\n",
    "plt.ylabel(\"\")\n",
    "plt.legend()"
   ]
  },
  {
   "cell_type": "markdown",
   "metadata": {
    "id": "CKmVMFmiNbdb"
   },
   "source": [
    "### 預測 2022 蛋價, step = 90, time_unit = day"
   ]
  },
  {
   "cell_type": "code",
   "execution_count": 17,
   "metadata": {
    "id": "zA6P__x6t2ku"
   },
   "outputs": [
    {
     "name": "stdout",
     "output_type": "stream",
     "text": [
      "len of dataset:  1736\n"
     ]
    },
    {
     "data": {
      "text/plain": [
       "1371"
      ]
     },
     "execution_count": 17,
     "metadata": {},
     "output_type": "execute_result"
    }
   ],
   "source": [
    "# choose a number of time steps\n",
    "n_steps = 90\n",
    "# convert into input/output\n",
    "dataset_ar = np.array(oridata)\n",
    "dataset_x, dataset_y = split_sequences(dataset_ar, n_steps)\n",
    "\n",
    "print(\"len of dataset: \", len(dataset_x))\n",
    "trainsize = len(dataset_x)-365\n",
    "trainsize"
   ]
  },
  {
   "cell_type": "code",
   "execution_count": 18,
   "metadata": {
    "id": "NaYPhGkxtYxB"
   },
   "outputs": [
    {
     "name": "stdout",
     "output_type": "stream",
     "text": [
      "Train data shape:  (1371, 90, 18) (1371,)\n",
      "Test data shape:  (365, 90, 18) (365,)\n"
     ]
    }
   ],
   "source": [
    "### Test 2022 的情況\n",
    "\n",
    "Train_x = dataset_x[0:trainsize].astype('float32')\n",
    "Train_y = dataset_y[0:trainsize].astype('float32')\n",
    "Test_x = dataset_x[trainsize:].astype('float32')\n",
    "Test_y = dataset_y[trainsize:].astype('float32')\n",
    "\n",
    "print(\"Train data shape: \",  Train_x.shape, Train_y.shape)\n",
    "print(\"Test data shape: \",  Test_x.shape, Test_y.shape)"
   ]
  },
  {
   "cell_type": "code",
   "execution_count": 19,
   "metadata": {
    "id": "uEadqiYjQF4j"
   },
   "outputs": [],
   "source": [
    "Trainset = TensorDataset(torch.from_numpy(Train_x), torch.from_numpy(Train_y))\n",
    "Testset = TensorDataset(torch.from_numpy(Test_x), torch.from_numpy(Test_y))\n",
    "trainloader = DataLoader(Trainset, batch_size=32, shuffle=False, num_workers=0)\n",
    "testloader = DataLoader(Testset, batch_size=32, shuffle=False, num_workers=0)"
   ]
  },
  {
   "cell_type": "code",
   "execution_count": 36,
   "metadata": {
    "id": "_zdlKx62VGIM"
   },
   "outputs": [
    {
     "name": "stderr",
     "output_type": "stream",
     "text": [
      "100%|██████████| 100/100 [00:22<00:00,  4.43it/s]"
     ]
    },
    {
     "name": "stdout",
     "output_type": "stream",
     "text": [
      "best_step_cnt:  4000\n",
      "best_tra_rmse:  tensor(1.3688, device='cuda:0', grad_fn=<SqrtBackward0>)\n"
     ]
    },
    {
     "name": "stderr",
     "output_type": "stream",
     "text": [
      "\n"
     ]
    }
   ],
   "source": [
    "n_features = Train_x.shape[2]\n",
    "# import train\n",
    "\n",
    "model = CNN()\n",
    "model.to(device)\n",
    "optimizer = optim.Adam(model.parameters(), lr=1e-5)\n",
    "epochs = 100\n",
    "\n",
    "### train\n",
    "\n",
    "best_step_cnt, best_tra_rmse, train_rmse_list, output_list = train(trainloader, model, optimizer, epochs)\n",
    "\n",
    "print(\"best_step_cnt: \",best_step_cnt)\n",
    "print(\"best_tra_rmse: \",best_tra_rmse)"
   ]
  },
  {
   "cell_type": "code",
   "execution_count": 37,
   "metadata": {
    "id": "pPmCka-uVMwe"
   },
   "outputs": [
    {
     "name": "stderr",
     "output_type": "stream",
     "text": [
      "  0%|          | 0/12 [00:00<?, ?it/s]/usr/local/lib/python3.6/dist-packages/torch/nn/modules/loss.py:520: UserWarning: Using a target size (torch.Size([32])) that is different to the input size (torch.Size([32, 1])). This will likely lead to incorrect results due to broadcasting. Please ensure they have the same size.\n",
      "  return F.mse_loss(input, target, reduction=self.reduction)\n",
      "/usr/local/lib/python3.6/dist-packages/torch/nn/modules/loss.py:520: UserWarning: Using a target size (torch.Size([13])) that is different to the input size (torch.Size([13, 1])). This will likely lead to incorrect results due to broadcasting. Please ensure they have the same size.\n",
      "  return F.mse_loss(input, target, reduction=self.reduction)\n",
      "100%|██████████| 12/12 [00:00<00:00, 590.05it/s]"
     ]
    },
    {
     "name": "stdout",
     "output_type": "stream",
     "text": [
      "\n",
      " Test MSE: tensor(11.8630, device='cuda:0', grad_fn=<DivBackward0>)\n",
      "Test RMSE: tensor(3.4443, device='cuda:0', grad_fn=<SqrtBackward0>)\n",
      "Test MSPE: tensor(0.0075, device='cuda:0', grad_fn=<DivBackward0>)\n"
     ]
    },
    {
     "name": "stderr",
     "output_type": "stream",
     "text": [
      "\n"
     ]
    }
   ],
   "source": [
    "# Test\n",
    "model = torch.load('best_model.pt')\n",
    "model.eval()\n",
    "MSE_test, RMSE_test, MSPE_test,outputlist = test(testloader, model)\n",
    "print(\"\\n\",\"Test MSE:\", MSE_test)\n",
    "print(\"Test RMSE:\", RMSE_test)\n",
    "print(\"Test MSPE:\", MSPE_test)"
   ]
  },
  {
   "cell_type": "code",
   "execution_count": 38,
   "metadata": {},
   "outputs": [],
   "source": [
    "output = []\n",
    "for i in outputlist:\n",
    "  for j in i:\n",
    "    j = float(j)\n",
    "    output.append(j)"
   ]
  },
  {
   "cell_type": "code",
   "execution_count": 39,
   "metadata": {
    "id": "0pYL6-ENVW4P"
   },
   "outputs": [
    {
     "data": {
      "text/plain": [
       "<matplotlib.legend.Legend at 0x7fd851ef4550>"
      ]
     },
     "execution_count": 39,
     "metadata": {},
     "output_type": "execute_result"
    },
    {
     "data": {
      "image/png": "[encoded data removed]",
      "text/plain": [
       "<Figure size 864x432 with 1 Axes>"
      ]
     },
     "metadata": {
      "needs_background": "light"
     },
     "output_type": "display_data"
    }
   ],
   "source": [
    "\n",
    "fig = plt.figure(figsize=(12, 6))\n",
    "\n",
    "plt.title(f\"CNN step90 - EggPrice\")\n",
    "\n",
    "newdate_train = pd.to_datetime(rawdata['Date'][:1461])\n",
    "newdate_test = pd.to_datetime(rawdata['Date'][1461:])\n",
    "fig.gca().xaxis.set_major_formatter(mdates.DateFormatter('%Y')) #設定x軸主刻度顯示格式（日期）\n",
    "# fig.gca().xaxis.set_major_locator(mdates.DayLocator(interval=14)) #設定x軸主刻度間距\n",
    "\n",
    "# plt.xlim([2018, 2023])\n",
    "\n",
    "x_train = newdate_train\n",
    "y_train = orid['egg_TaijinPrice'][:1461]\n",
    "plt.plot(x_train, y_train, 'b', linewidth=1, label=\"Train\")\n",
    "\n",
    "x_test = newdate_test\n",
    "y_test = orid['egg_TaijinPrice'][1461:]\n",
    "plt.plot(x_test,y_test, 'y', linewidth=1, label=\"Test\")\n",
    "\n",
    "y_pred = output\n",
    "plt.plot(x_test ,y_pred, 'r', linewidth=1, label=\"Predict\")\n",
    "\n",
    "plt.xlabel(\"Date\")\n",
    "plt.ylabel(\"EggPrice\")\n",
    "plt.legend()"
   ]
  },
  {
   "cell_type": "code",
   "execution_count": 40,
   "metadata": {
    "id": "lNXSHtgjVc_c"
   },
   "outputs": [],
   "source": [
    "train_RMSE = []\n",
    "for i in train_rmse_list:\n",
    "  train_RMSE.append(float(i))"
   ]
  },
  {
   "cell_type": "code",
   "execution_count": 41,
   "metadata": {
    "id": "9YJ5sHnnVgUJ"
   },
   "outputs": [
    {
     "data": {
      "text/plain": [
       "<matplotlib.legend.Legend at 0x7fd851e3c278>"
      ]
     },
     "execution_count": 41,
     "metadata": {},
     "output_type": "execute_result"
    },
    {
     "data": {
      "image/png": "[encoded data removed]",
      "text/plain": [
       "<Figure size 864x432 with 1 Axes>"
      ]
     },
     "metadata": {
      "needs_background": "light"
     },
     "output_type": "display_data"
    }
   ],
   "source": [
    "import matplotlib.pyplot as plt\n",
    "\n",
    "fig = plt.figure(figsize=(12, 6))\n",
    "\n",
    "plt.title(f\"Training RMSE\")\n",
    "\n",
    "x = range(1, len(train_RMSE)+1)\n",
    "\n",
    "x_train = list(x)\n",
    "y_train = train_RMSE\n",
    "plt.plot(x_train, y_train, 'b', linewidth=1, label=\"Training\")\n",
    "\n",
    "\n",
    "plt.xlabel(\"each 100 batch\")\n",
    "plt.ylabel(\"\")\n",
    "plt.legend()"
   ]
  },
  {
   "cell_type": "markdown",
   "metadata": {},
   "source": [
    "### 預測 2022 蛋價, step = 180, time_unit = day"
   ]
  },
  {
   "cell_type": "code",
   "execution_count": 45,
   "metadata": {},
   "outputs": [
    {
     "name": "stdout",
     "output_type": "stream",
     "text": [
      "len of dataset:  1646\n"
     ]
    },
    {
     "data": {
      "text/plain": [
       "1281"
      ]
     },
     "execution_count": 45,
     "metadata": {},
     "output_type": "execute_result"
    }
   ],
   "source": [
    "# choose a number of time steps\n",
    "n_steps = 180\n",
    "# convert into input/output\n",
    "dataset_ar = np.array(oridata)\n",
    "dataset_x, dataset_y = split_sequences(dataset_ar, n_steps)\n",
    "\n",
    "print(\"len of dataset: \", len(dataset_x))\n",
    "trainsize = len(dataset_x)-365\n",
    "trainsize"
   ]
  },
  {
   "cell_type": "code",
   "execution_count": 46,
   "metadata": {},
   "outputs": [
    {
     "name": "stdout",
     "output_type": "stream",
     "text": [
      "Train data shape:  (1281, 180, 18) (1281,)\n",
      "Test data shape:  (365, 180, 18) (365,)\n"
     ]
    }
   ],
   "source": [
    "### Test 2022 的情況\n",
    "\n",
    "Train_x = dataset_x[0:trainsize].astype('float32')\n",
    "Train_y = dataset_y[0:trainsize].astype('float32')\n",
    "Test_x = dataset_x[trainsize:].astype('float32')\n",
    "Test_y = dataset_y[trainsize:].astype('float32')\n",
    "\n",
    "print(\"Train data shape: \",  Train_x.shape, Train_y.shape)\n",
    "print(\"Test data shape: \",  Test_x.shape, Test_y.shape)"
   ]
  },
  {
   "cell_type": "code",
   "execution_count": 47,
   "metadata": {},
   "outputs": [],
   "source": [
    "Trainset = TensorDataset(torch.from_numpy(Train_x), torch.from_numpy(Train_y))\n",
    "Testset = TensorDataset(torch.from_numpy(Test_x), torch.from_numpy(Test_y))\n",
    "trainloader = DataLoader(Trainset, batch_size=32, shuffle=False, num_workers=0)\n",
    "testloader = DataLoader(Testset, batch_size=32, shuffle=False, num_workers=0)"
   ]
  },
  {
   "cell_type": "code",
   "execution_count": 48,
   "metadata": {},
   "outputs": [
    {
     "name": "stderr",
     "output_type": "stream",
     "text": [
      "100%|██████████| 100/100 [00:21<00:00,  4.62it/s]"
     ]
    },
    {
     "name": "stdout",
     "output_type": "stream",
     "text": [
      "best_step_cnt:  4000\n",
      "best_tra_rmse:  tensor(0.9634, device='cuda:0', grad_fn=<SqrtBackward0>)\n"
     ]
    },
    {
     "name": "stderr",
     "output_type": "stream",
     "text": [
      "\n"
     ]
    }
   ],
   "source": [
    "n_features = Train_x.shape[2]\n",
    "# import train\n",
    "\n",
    "model = CNN()\n",
    "model.to(device)\n",
    "optimizer = optim.Adam(model.parameters(), lr=1e-5)\n",
    "epochs = 100\n",
    "\n",
    "### train\n",
    "\n",
    "best_step_cnt, best_tra_rmse, train_rmse_list, output_list = train(trainloader, model, optimizer, epochs)\n",
    "\n",
    "print(\"best_step_cnt: \",best_step_cnt)\n",
    "print(\"best_tra_rmse: \",best_tra_rmse)"
   ]
  },
  {
   "cell_type": "code",
   "execution_count": 49,
   "metadata": {},
   "outputs": [
    {
     "name": "stderr",
     "output_type": "stream",
     "text": [
      "  0%|          | 0/12 [00:00<?, ?it/s]/usr/local/lib/python3.6/dist-packages/torch/nn/modules/loss.py:520: UserWarning: Using a target size (torch.Size([32])) that is different to the input size (torch.Size([32, 1])). This will likely lead to incorrect results due to broadcasting. Please ensure they have the same size.\n",
      "  return F.mse_loss(input, target, reduction=self.reduction)\n",
      "/usr/local/lib/python3.6/dist-packages/torch/nn/modules/loss.py:520: UserWarning: Using a target size (torch.Size([13])) that is different to the input size (torch.Size([13, 1])). This will likely lead to incorrect results due to broadcasting. Please ensure they have the same size.\n",
      "  return F.mse_loss(input, target, reduction=self.reduction)\n",
      "100%|██████████| 12/12 [00:00<00:00, 363.36it/s]"
     ]
    },
    {
     "name": "stdout",
     "output_type": "stream",
     "text": [
      "\n",
      " Test MSE: tensor(26.6959, device='cuda:0', grad_fn=<DivBackward0>)\n",
      "Test RMSE: tensor(5.1668, device='cuda:0', grad_fn=<SqrtBackward0>)\n",
      "Test MSPE: tensor(0.0168, device='cuda:0', grad_fn=<DivBackward0>)\n"
     ]
    },
    {
     "name": "stderr",
     "output_type": "stream",
     "text": [
      "\n"
     ]
    }
   ],
   "source": [
    "# Test\n",
    "model = torch.load('best_model.pt')\n",
    "model.eval()\n",
    "MSE_test, RMSE_test, MSPE_test,outputlist = test(testloader, model)\n",
    "print(\"\\n\",\"Test MSE:\", MSE_test)\n",
    "print(\"Test RMSE:\", RMSE_test)\n",
    "print(\"Test MSPE:\", MSPE_test)"
   ]
  },
  {
   "cell_type": "code",
   "execution_count": 50,
   "metadata": {},
   "outputs": [],
   "source": [
    "output = []\n",
    "for i in outputlist:\n",
    "  for j in i:\n",
    "    j = float(j)\n",
    "    output.append(j)"
   ]
  },
  {
   "cell_type": "code",
   "execution_count": 56,
   "metadata": {},
   "outputs": [
    {
     "data": {
      "image/png": "[encoded data removed]",
      "text/plain": [
       "<Figure size 864x432 with 1 Axes>"
      ]
     },
     "metadata": {
      "needs_background": "light"
     },
     "output_type": "display_data"
    }
   ],
   "source": [
    "TestPlot(output)"
   ]
  },
  {
   "cell_type": "code",
   "execution_count": 52,
   "metadata": {},
   "outputs": [],
   "source": [
    "train_RMSE = []\n",
    "for i in train_rmse_list:\n",
    "  train_RMSE.append(float(i))"
   ]
  },
  {
   "cell_type": "code",
   "execution_count": 57,
   "metadata": {},
   "outputs": [
    {
     "data": {
      "image/png": "[encoded data removed]",
      "text/plain": [
       "<Figure size 864x432 with 1 Axes>"
      ]
     },
     "metadata": {
      "needs_background": "light"
     },
     "output_type": "display_data"
    }
   ],
   "source": [
    "trainingRMSE(train_RMSE)"
   ]
  },
  {
   "cell_type": "markdown",
   "metadata": {},
   "source": [
    "### 預測 2022 蛋價 step = 30 time_unit = day\n",
    "#### 修改價格 Normalize"
   ]
  },
  {
   "cell_type": "code",
   "execution_count": 69,
   "metadata": {},
   "outputs": [
    {
     "name": "stdout",
     "output_type": "stream",
     "text": [
      "len of dataset:  1796\n"
     ]
    },
    {
     "data": {
      "text/plain": [
       "1431"
      ]
     },
     "execution_count": 69,
     "metadata": {},
     "output_type": "execute_result"
    }
   ],
   "source": [
    "# choose a number of time steps\n",
    "n_steps = 30\n",
    "# convert into input/output\n",
    "dataset_ar = np.array(oridata)\n",
    "dataset_x, dataset_y = split_sequences(dataset_ar, n_steps)\n",
    "\n",
    "print(\"len of dataset: \", len(dataset_x))\n",
    "trainsize = len(dataset_x)-365\n",
    "trainsize"
   ]
  },
  {
   "cell_type": "code",
   "execution_count": 70,
   "metadata": {},
   "outputs": [
    {
     "name": "stdout",
     "output_type": "stream",
     "text": [
      "Train data shape:  (1431, 30, 18) (1431,)\n",
      "Test data shape:  (365, 30, 18) (365,)\n"
     ]
    }
   ],
   "source": [
    "### Test 2022 的情況\n",
    "\n",
    "Train_x = dataset_x[0:trainsize].astype('float32')\n",
    "Train_y = dataset_y[0:trainsize].astype('float32')\n",
    "Test_x = dataset_x[trainsize:].astype('float32')\n",
    "Test_y = dataset_y[trainsize:].astype('float32')\n",
    "\n",
    "print(\"Train data shape: \",  Train_x.shape, Train_y.shape)\n",
    "print(\"Test data shape: \",  Test_x.shape, Test_y.shape)"
   ]
  },
  {
   "cell_type": "code",
   "execution_count": 71,
   "metadata": {},
   "outputs": [],
   "source": [
    "Trainset = TensorDataset(torch.from_numpy(Train_x), torch.from_numpy(Train_y))\n",
    "Testset = TensorDataset(torch.from_numpy(Test_x), torch.from_numpy(Test_y))\n",
    "trainloader = DataLoader(Trainset, batch_size=32, shuffle=False, num_workers=0)\n",
    "testloader = DataLoader(Testset, batch_size=32, shuffle=False, num_workers=0)"
   ]
  },
  {
   "cell_type": "code",
   "execution_count": 77,
   "metadata": {},
   "outputs": [
    {
     "name": "stderr",
     "output_type": "stream",
     "text": [
      "100%|██████████| 1000/1000 [03:54<00:00,  4.26it/s]"
     ]
    },
    {
     "name": "stdout",
     "output_type": "stream",
     "text": [
      "best_step_cnt:  15700\n",
      "best_tra_rmse:  tensor(0.7688, device='cuda:0', grad_fn=<SqrtBackward0>)\n"
     ]
    },
    {
     "name": "stderr",
     "output_type": "stream",
     "text": [
      "\n"
     ]
    }
   ],
   "source": [
    "n_features = Train_x.shape[2]\n",
    "# import train\n",
    "\n",
    "model = CNN()\n",
    "model.to(device)\n",
    "optimizer = optim.Adam(model.parameters(), lr=1e-5)\n",
    "epochs = 1000\n",
    "\n",
    "### train\n",
    "\n",
    "best_step_cnt, best_tra_rmse, train_rmse_list, output_list = train(trainloader, model, optimizer, epochs)\n",
    "\n",
    "print(\"best_step_cnt: \",best_step_cnt)\n",
    "print(\"best_tra_rmse: \",best_tra_rmse)"
   ]
  },
  {
   "cell_type": "code",
   "execution_count": 78,
   "metadata": {},
   "outputs": [],
   "source": [
    "train_RMSE = []\n",
    "for i in train_rmse_list:\n",
    "  train_RMSE.append(float(i))"
   ]
  },
  {
   "cell_type": "code",
   "execution_count": 79,
   "metadata": {},
   "outputs": [
    {
     "data": {
      "image/png": "[encoded data removed]",
      "text/plain": [
       "<Figure size 864x432 with 1 Axes>"
      ]
     },
     "metadata": {
      "needs_background": "light"
     },
     "output_type": "display_data"
    }
   ],
   "source": [
    "trainingRMSE(train_RMSE)"
   ]
  },
  {
   "cell_type": "code",
   "execution_count": 80,
   "metadata": {},
   "outputs": [
    {
     "name": "stderr",
     "output_type": "stream",
     "text": [
      "  0%|          | 0/12 [00:00<?, ?it/s]/usr/local/lib/python3.6/dist-packages/torch/nn/modules/loss.py:520: UserWarning: Using a target size (torch.Size([32])) that is different to the input size (torch.Size([32, 1])). This will likely lead to incorrect results due to broadcasting. Please ensure they have the same size.\n",
      "  return F.mse_loss(input, target, reduction=self.reduction)\n",
      "/usr/local/lib/python3.6/dist-packages/torch/nn/modules/loss.py:520: UserWarning: Using a target size (torch.Size([13])) that is different to the input size (torch.Size([13, 1])). This will likely lead to incorrect results due to broadcasting. Please ensure they have the same size.\n",
      "  return F.mse_loss(input, target, reduction=self.reduction)\n",
      "100%|██████████| 12/12 [00:00<00:00, 637.78it/s]"
     ]
    },
    {
     "name": "stdout",
     "output_type": "stream",
     "text": [
      "\n",
      " Test MSE: tensor(221.4299, device='cuda:0', grad_fn=<DivBackward0>)\n",
      "Test RMSE: tensor(14.8805, device='cuda:0', grad_fn=<SqrtBackward0>)\n",
      "Test MSPE: tensor(0.1365, device='cuda:0', grad_fn=<DivBackward0>)\n"
     ]
    },
    {
     "name": "stderr",
     "output_type": "stream",
     "text": [
      "\n"
     ]
    }
   ],
   "source": [
    "# Test\n",
    "model = torch.load('best_model.pt')\n",
    "model.eval()\n",
    "MSE_test, RMSE_test, MSPE_test,outputlist = test(testloader, model)\n",
    "print(\"\\n\",\"Test MSE:\", MSE_test)\n",
    "print(\"Test RMSE:\", RMSE_test)\n",
    "print(\"Test MSPE:\", MSPE_test)"
   ]
  },
  {
   "cell_type": "code",
   "execution_count": 81,
   "metadata": {},
   "outputs": [],
   "source": [
    "output = []\n",
    "for i in outputlist:\n",
    "  for j in i:\n",
    "    j = float(j)\n",
    "    output.append(j)"
   ]
  },
  {
   "cell_type": "code",
   "execution_count": 82,
   "metadata": {},
   "outputs": [
    {
     "data": {
      "image/png": "[encoded data removed]",
      "text/plain": [
       "<Figure size 864x432 with 1 Axes>"
      ]
     },
     "metadata": {
      "needs_background": "light"
     },
     "output_type": "display_data"
    }
   ],
   "source": [
    "TestPlot(output)"
   ]
  },
  {
   "cell_type": "markdown",
   "metadata": {},
   "source": [
    "### 預測 2021 蛋價 step = 30 time_unit = day\n",
    "#### 修改價格 Normalize"
   ]
  },
  {
   "cell_type": "code",
   "execution_count": 189,
   "metadata": {},
   "outputs": [
    {
     "name": "stdout",
     "output_type": "stream",
     "text": [
      "len of dataset:  1430\n"
     ]
    },
    {
     "data": {
      "text/plain": [
       "1065"
      ]
     },
     "execution_count": 189,
     "metadata": {},
     "output_type": "execute_result"
    }
   ],
   "source": [
    "# choose a number of time steps\n",
    "n_windows = 30\n",
    "n_steps = 1\n",
    "# convert into input/output\n",
    "# 資料只取到 2021\n",
    "dataset_ar = oridata[:][:1461]\n",
    "dataset_ar = np.array(dataset_ar)\n",
    "dataset_x, dataset_y = split_sequences(dataset_ar, n_steps,n_windows)\n",
    "\n",
    "print(\"len of dataset: \", len(dataset_x))\n",
    "trainsize = len(dataset_x)-365\n",
    "trainsize"
   ]
  },
  {
   "cell_type": "code",
   "execution_count": 190,
   "metadata": {},
   "outputs": [
    {
     "name": "stdout",
     "output_type": "stream",
     "text": [
      "Train data shape:  (1065, 30, 18) (1065, 1)\n",
      "Test data shape:  (365, 30, 18) (365, 1)\n"
     ]
    }
   ],
   "source": [
    "### Test 2022 的情況\n",
    "\n",
    "Train_x = dataset_x[0:trainsize].astype('float32')\n",
    "Train_y = dataset_y[0:trainsize].astype('float32')\n",
    "Test_x = dataset_x[trainsize:].astype('float32')\n",
    "Test_y = dataset_y[trainsize:].astype('float32')\n",
    "\n",
    "print(\"Train data shape: \",  Train_x.shape, Train_y.shape)\n",
    "print(\"Test data shape: \",  Test_x.shape, Test_y.shape)"
   ]
  },
  {
   "cell_type": "code",
   "execution_count": 191,
   "metadata": {},
   "outputs": [],
   "source": [
    "Trainset = TensorDataset(torch.from_numpy(Train_x), torch.from_numpy(Train_y))\n",
    "Testset = TensorDataset(torch.from_numpy(Test_x), torch.from_numpy(Test_y))\n",
    "trainloader = DataLoader(Trainset, batch_size=32, shuffle=False, num_workers=0)\n",
    "testloader = DataLoader(Testset, batch_size=32, shuffle=False, num_workers=0)"
   ]
  },
  {
   "cell_type": "code",
   "execution_count": 194,
   "metadata": {},
   "outputs": [
    {
     "name": "stderr",
     "output_type": "stream",
     "text": [
      "100%|██████████| 6000/6000 [17:20<00:00,  5.77it/s]\n"
     ]
    },
    {
     "name": "stdout",
     "output_type": "stream",
     "text": [
      "best_step_cnt:  203800\n",
      "best_tra_rmse:  tensor(0.8108, device='cuda:0', grad_fn=<SqrtBackward0>)\n"
     ]
    }
   ],
   "source": [
    "n_features = Train_x.shape[2]\n",
    "# import train\n",
    "\n",
    "model = CNN()\n",
    "model.to(device)\n",
    "optimizer = optim.Adam(model.parameters(), lr=1e-5)\n",
    "epochs = 6000\n",
    "\n",
    "### train\n",
    "\n",
    "best_step_cnt, best_tra_rmse, train_rmse_list, output_list = train(trainloader, model, optimizer, epochs)\n",
    "\n",
    "print(\"best_step_cnt: \",best_step_cnt)\n",
    "print(\"best_tra_rmse: \",best_tra_rmse)"
   ]
  },
  {
   "cell_type": "code",
   "execution_count": 87,
   "metadata": {},
   "outputs": [
    {
     "name": "stderr",
     "output_type": "stream",
     "text": [
      "  0%|          | 0/12 [00:00<?, ?it/s]/usr/local/lib/python3.6/dist-packages/torch/nn/modules/loss.py:520: UserWarning: Using a target size (torch.Size([32])) that is different to the input size (torch.Size([32, 1])). This will likely lead to incorrect results due to broadcasting. Please ensure they have the same size.\n",
      "  return F.mse_loss(input, target, reduction=self.reduction)\n",
      "/usr/local/lib/python3.6/dist-packages/torch/nn/modules/loss.py:520: UserWarning: Using a target size (torch.Size([13])) that is different to the input size (torch.Size([13, 1])). This will likely lead to incorrect results due to broadcasting. Please ensure they have the same size.\n",
      "  return F.mse_loss(input, target, reduction=self.reduction)\n",
      "100%|██████████| 12/12 [00:00<00:00, 381.68it/s]"
     ]
    },
    {
     "name": "stdout",
     "output_type": "stream",
     "text": [
      "\n",
      " Test MSE: tensor(15.2955, device='cuda:0', grad_fn=<DivBackward0>)\n",
      "Test RMSE: tensor(3.9109, device='cuda:0', grad_fn=<SqrtBackward0>)\n",
      "Test MSPE: tensor(0.0162, device='cuda:0', grad_fn=<DivBackward0>)\n"
     ]
    },
    {
     "name": "stderr",
     "output_type": "stream",
     "text": [
      "\n"
     ]
    }
   ],
   "source": [
    "# Test\n",
    "model = torch.load('best_model.pt')\n",
    "model.eval()\n",
    "MSE_test, RMSE_test, MSPE_test,outputlist = test(testloader, model)\n",
    "print(\"\\n\",\"Test MSE:\", MSE_test)\n",
    "print(\"Test RMSE:\", RMSE_test)\n",
    "print(\"Test MSPE:\", MSPE_test)"
   ]
  },
  {
   "cell_type": "code",
   "execution_count": 88,
   "metadata": {},
   "outputs": [],
   "source": [
    "output = []\n",
    "for i in outputlist:\n",
    "  for j in i:\n",
    "    j = float(j)\n",
    "    output.append(j)"
   ]
  },
  {
   "cell_type": "code",
   "execution_count": 92,
   "metadata": {},
   "outputs": [
    {
     "data": {
      "image/png": "[encoded data removed]",
      "text/plain": [
       "<Figure size 864x432 with 1 Axes>"
      ]
     },
     "metadata": {
      "needs_background": "light"
     },
     "output_type": "display_data"
    }
   ],
   "source": [
    "TestPlot(output,trainsize)"
   ]
  },
  {
   "cell_type": "code",
   "execution_count": 195,
   "metadata": {},
   "outputs": [
    {
     "name": "stdout",
     "output_type": "stream",
     "text": [
      "\n",
      " Test MSE: tensor(9.9888, device='cuda:0', grad_fn=<DivBackward0>)\n",
      "Test RMSE: tensor(3.1605, device='cuda:0', grad_fn=<SqrtBackward0>)\n",
      "Test MSPE: tensor(0.0157, device='cuda:0', grad_fn=<DivBackward0>)\n"
     ]
    },
    {
     "data": {
      "image/png": "[encoded data removed]",
      "text/plain": [
       "<Figure size 864x432 with 1 Axes>"
      ]
     },
     "metadata": {
      "needs_background": "light"
     },
     "output_type": "display_data"
    }
   ],
   "source": [
    "### 跑一下 6000 個 epochs 看看\n",
    "\n",
    "# Test\n",
    "model = torch.load('best_model.pt')\n",
    "model.eval()\n",
    "MSE_test, RMSE_test, MSPE_test,outputlist = test(testloader, model)\n",
    "print(\"\\n\",\"Test MSE:\", MSE_test)\n",
    "print(\"Test RMSE:\", RMSE_test)\n",
    "print(\"Test MSPE:\", MSPE_test)\n",
    "\n",
    "output = []\n",
    "for i in outputlist:\n",
    "  for j in i:\n",
    "    j = float(j)\n",
    "    output.append(j)\n",
    "TestPlot(output,1066)"
   ]
  },
  {
   "cell_type": "markdown",
   "metadata": {},
   "source": [
    "### 預測 2021 蛋價 windowsize = 30, step = 7,  time_unit = day\n",
    "#### 修改價格 Normalize, 資料一次看前30天預測下7天"
   ]
  },
  {
   "cell_type": "code",
   "execution_count": 102,
   "metadata": {},
   "outputs": [
    {
     "name": "stdout",
     "output_type": "stream",
     "text": [
      "len of dataset:  204\n"
     ]
    },
    {
     "data": {
      "text/plain": [
       "152"
      ]
     },
     "execution_count": 102,
     "metadata": {},
     "output_type": "execute_result"
    }
   ],
   "source": [
    "# choose a number of time steps\n",
    "n_windows = 30\n",
    "n_steps = 7\n",
    "# convert into input/output\n",
    "# 資料只取到 2021\n",
    "dataset_ar = oridata[:][:1461]\n",
    "dataset_ar = np.array(dataset_ar)\n",
    "dataset_x, dataset_y = split_sequences_w(dataset_ar, n_steps, n_windows)\n",
    "\n",
    "print(\"len of dataset: \", len(dataset_x))\n",
    "trainsize = len(dataset_x)-52\n",
    "trainsize"
   ]
  },
  {
   "cell_type": "code",
   "execution_count": 103,
   "metadata": {},
   "outputs": [
    {
     "name": "stdout",
     "output_type": "stream",
     "text": [
      "Train data shape:  (152, 30, 18) (152, 7)\n",
      "Test data shape:  (52, 30, 18) (52, 7)\n"
     ]
    }
   ],
   "source": [
    "### Test 2022 的情況\n",
    "\n",
    "Train_x = dataset_x[0:trainsize].astype('float32')\n",
    "Train_y = dataset_y[0:trainsize].astype('float32')\n",
    "Test_x = dataset_x[trainsize:].astype('float32')\n",
    "Test_y = dataset_y[trainsize:].astype('float32')\n",
    "\n",
    "print(\"Train data shape: \",  Train_x.shape, Train_y.shape)\n",
    "print(\"Test data shape: \",  Test_x.shape, Test_y.shape)"
   ]
  },
  {
   "cell_type": "code",
   "execution_count": 160,
   "metadata": {},
   "outputs": [],
   "source": [
    "Trainset = TensorDataset(torch.from_numpy(Train_x), torch.from_numpy(Train_y))\n",
    "Testset = TensorDataset(torch.from_numpy(Test_x), torch.from_numpy(Test_y))\n",
    "trainloader = DataLoader(Trainset, batch_size=16, shuffle=False, num_workers=0)\n",
    "testloader = DataLoader(Testset, batch_size=16, shuffle=False, num_workers=0)"
   ]
  },
  {
   "cell_type": "code",
   "execution_count": 161,
   "metadata": {},
   "outputs": [
    {
     "name": "stderr",
     "output_type": "stream",
     "text": [
      "100%|██████████| 6000/6000 [05:12<00:00, 19.19it/s]"
     ]
    },
    {
     "name": "stdout",
     "output_type": "stream",
     "text": [
      "best_step_cnt:  32400\n",
      "best_tra_rmse:  tensor(2.1818, device='cuda:0', grad_fn=<SqrtBackward0>)\n"
     ]
    },
    {
     "name": "stderr",
     "output_type": "stream",
     "text": [
      "\n"
     ]
    }
   ],
   "source": [
    "n_features = Train_x.shape[2]\n",
    "# import train\n",
    "\n",
    "model = CNN()\n",
    "model.to(device)\n",
    "optimizer = optim.Adam(model.parameters(), lr=1e-5)\n",
    "epochs = 6000\n",
    "\n",
    "### train\n",
    "\n",
    "best_step_cnt, best_tra_rmse, train_rmse_list, output_list = train(trainloader, model, optimizer, epochs)\n",
    "\n",
    "print(\"best_step_cnt: \",best_step_cnt)\n",
    "print(\"best_tra_rmse: \",best_tra_rmse)"
   ]
  },
  {
   "cell_type": "code",
   "execution_count": 162,
   "metadata": {},
   "outputs": [
    {
     "name": "stdout",
     "output_type": "stream",
     "text": [
      "before pred, y_data shape: torch.Size([16, 7]) torch.Size([16, 7])\n",
      "after pred, y_data shape: torch.Size([112, 1]) torch.Size([112, 1])\n",
      "before pred, y_data shape: torch.Size([16, 7]) torch.Size([16, 7])\n",
      "after pred, y_data shape: torch.Size([112, 1]) torch.Size([112, 1])\n",
      "before pred, y_data shape: torch.Size([16, 7]) torch.Size([16, 7])\n",
      "after pred, y_data shape: torch.Size([112, 1]) torch.Size([112, 1])\n",
      "before pred, y_data shape: torch.Size([4, 7]) torch.Size([4, 7])\n",
      "after pred, y_data shape: torch.Size([28, 1]) torch.Size([28, 1])\n",
      "\n",
      " Test MSE: tensor(13.8467, device='cuda:0', grad_fn=<DivBackward0>)\n",
      "Test RMSE: tensor(3.7211, device='cuda:0', grad_fn=<SqrtBackward0>)\n",
      "Test MSPE: tensor(0.0203, device='cuda:0', grad_fn=<DivBackward0>)\n"
     ]
    }
   ],
   "source": [
    "# Test\n",
    "model = torch.load('best_model.pt')\n",
    "model.eval()\n",
    "MSE_test, RMSE_test, MSPE_test,outputlist = test(testloader, model)\n",
    "print(\"\\n\",\"Test MSE:\", MSE_test)\n",
    "print(\"Test RMSE:\", RMSE_test)\n",
    "print(\"Test MSPE:\", MSPE_test)"
   ]
  },
  {
   "cell_type": "code",
   "execution_count": 163,
   "metadata": {},
   "outputs": [],
   "source": [
    "output = []\n",
    "for i in outputlist:\n",
    "  for j in i:\n",
    "    j = float(j)\n",
    "    output.append(j)"
   ]
  },
  {
   "cell_type": "code",
   "execution_count": 164,
   "metadata": {},
   "outputs": [
    {
     "data": {
      "image/png": "[encoded data removed]",
      "text/plain": [
       "<Figure size 864x432 with 1 Axes>"
      ]
     },
     "metadata": {
      "needs_background": "light"
     },
     "output_type": "display_data"
    }
   ],
   "source": [
    "TestPlot(output,1066)"
   ]
  },
  {
   "cell_type": "code",
   "execution_count": 165,
   "metadata": {},
   "outputs": [],
   "source": [
    "train_RMSE = []\n",
    "for i in train_rmse_list:\n",
    "  train_RMSE.append(float(i))"
   ]
  },
  {
   "cell_type": "code",
   "execution_count": 166,
   "metadata": {},
   "outputs": [
    {
     "data": {
      "image/png": "[encoded data removed]",
      "text/plain": [
       "<Figure size 864x432 with 1 Axes>"
      ]
     },
     "metadata": {
      "needs_background": "light"
     },
     "output_type": "display_data"
    }
   ],
   "source": [
    "trainingRMSE(train_RMSE)"
   ]
  },
  {
   "cell_type": "markdown",
   "metadata": {},
   "source": [
    "### 預測 2021 蛋價 windowsize = 30, step = 14,  time_unit = day\n",
    "#### 修改價格 Normalize, 資料一次看前30天預測下14天"
   ]
  },
  {
   "cell_type": "code",
   "execution_count": 168,
   "metadata": {},
   "outputs": [
    {
     "name": "stdout",
     "output_type": "stream",
     "text": [
      "len of dataset:  102\n"
     ]
    },
    {
     "data": {
      "text/plain": [
       "76"
      ]
     },
     "execution_count": 168,
     "metadata": {},
     "output_type": "execute_result"
    }
   ],
   "source": [
    "# choose a number of time steps\n",
    "n_windows = 30\n",
    "n_steps = 14\n",
    "# convert into input/output\n",
    "# 資料只取到 2021\n",
    "dataset_ar = oridata[:][:1461]\n",
    "dataset_ar = np.array(dataset_ar)\n",
    "dataset_x, dataset_y = split_sequences_w(dataset_ar, n_steps, n_windows)\n",
    "\n",
    "print(\"len of dataset: \", len(dataset_x))\n",
    "trainsize = len(dataset_x)-(365//n_steps)\n",
    "trainsize"
   ]
  },
  {
   "cell_type": "code",
   "execution_count": 169,
   "metadata": {},
   "outputs": [
    {
     "name": "stdout",
     "output_type": "stream",
     "text": [
      "Train data shape:  (76, 30, 18) (76, 14)\n",
      "Test data shape:  (26, 30, 18) (26, 14)\n"
     ]
    }
   ],
   "source": [
    "### Test 2021 的情況\n",
    "\n",
    "Train_x = dataset_x[0:trainsize].astype('float32')\n",
    "Train_y = dataset_y[0:trainsize].astype('float32')\n",
    "Test_x = dataset_x[trainsize:].astype('float32')\n",
    "Test_y = dataset_y[trainsize:].astype('float32')\n",
    "\n",
    "print(\"Train data shape: \",  Train_x.shape, Train_y.shape)\n",
    "print(\"Test data shape: \",  Test_x.shape, Test_y.shape)"
   ]
  },
  {
   "cell_type": "code",
   "execution_count": 170,
   "metadata": {},
   "outputs": [],
   "source": [
    "Trainset = TensorDataset(torch.from_numpy(Train_x), torch.from_numpy(Train_y))\n",
    "Testset = TensorDataset(torch.from_numpy(Test_x), torch.from_numpy(Test_y))\n",
    "trainloader = DataLoader(Trainset, batch_size=8, shuffle=False, num_workers=0)\n",
    "testloader = DataLoader(Testset, batch_size=8, shuffle=False, num_workers=0)"
   ]
  },
  {
   "cell_type": "code",
   "execution_count": 177,
   "metadata": {},
   "outputs": [
    {
     "name": "stderr",
     "output_type": "stream",
     "text": [
      "100%|██████████| 6000/6000 [05:16<00:00, 18.98it/s]"
     ]
    },
    {
     "name": "stdout",
     "output_type": "stream",
     "text": [
      "best_step_cnt:  29600\n",
      "best_tra_rmse:  tensor(2.1834, device='cuda:0', grad_fn=<SqrtBackward0>)\n"
     ]
    },
    {
     "name": "stderr",
     "output_type": "stream",
     "text": [
      "\n"
     ]
    }
   ],
   "source": [
    "n_features = Train_x.shape[2]\n",
    "# import train\n",
    "\n",
    "model = CNN()\n",
    "model.to(device)\n",
    "optimizer = optim.Adam(model.parameters(), lr=1e-5)\n",
    "epochs = 6000\n",
    "\n",
    "### train\n",
    "\n",
    "best_step_cnt, best_tra_rmse, train_rmse_list, output_list = train(trainloader, model, optimizer, epochs)\n",
    "\n",
    "print(\"best_step_cnt: \",best_step_cnt)\n",
    "print(\"best_tra_rmse: \",best_tra_rmse)"
   ]
  },
  {
   "cell_type": "code",
   "execution_count": 178,
   "metadata": {},
   "outputs": [
    {
     "name": "stdout",
     "output_type": "stream",
     "text": [
      "\n",
      " Test MSE: tensor(13.2517, device='cuda:0', grad_fn=<DivBackward0>)\n",
      "Test RMSE: tensor(3.6403, device='cuda:0', grad_fn=<SqrtBackward0>)\n",
      "Test MSPE: tensor(0.0193, device='cuda:0', grad_fn=<DivBackward0>)\n"
     ]
    }
   ],
   "source": [
    "# Test\n",
    "model = torch.load('best_model.pt')\n",
    "model.eval()\n",
    "MSE_test, RMSE_test, MSPE_test,outputlist = test(testloader, model)\n",
    "print(\"\\n\",\"Test MSE:\", MSE_test)\n",
    "print(\"Test RMSE:\", RMSE_test)\n",
    "print(\"Test MSPE:\", MSPE_test)"
   ]
  },
  {
   "cell_type": "code",
   "execution_count": 179,
   "metadata": {},
   "outputs": [
    {
     "data": {
      "image/png": "[encoded data removed]",
      "text/plain": [
       "<Figure size 864x432 with 1 Axes>"
      ]
     },
     "metadata": {
      "needs_background": "light"
     },
     "output_type": "display_data"
    }
   ],
   "source": [
    "output = []\n",
    "for i in outputlist:\n",
    "  for j in i:\n",
    "    j = float(j)\n",
    "    output.append(j)\n",
    "TestPlot(output,1066)"
   ]
  },
  {
   "cell_type": "code",
   "execution_count": 180,
   "metadata": {},
   "outputs": [
    {
     "data": {
      "image/png": "[encoded data removed]",
      "text/plain": [
       "<Figure size 864x432 with 1 Axes>"
      ]
     },
     "metadata": {
      "needs_background": "light"
     },
     "output_type": "display_data"
    }
   ],
   "source": [
    "train_RMSE = []\n",
    "for i in train_rmse_list:\n",
    "  train_RMSE.append(float(i))\n",
    "trainingRMSE(train_RMSE)"
   ]
  },
  {
   "cell_type": "markdown",
   "metadata": {},
   "source": [
    "### 預測 2020 蛋價 windowsize = 30, step = 1,  time_unit = day\n",
    "#### 修改價格 Normalize, 資料一次看前30天預測下1天"
   ]
  },
  {
   "cell_type": "code",
   "execution_count": 202,
   "metadata": {},
   "outputs": [
    {
     "name": "stdout",
     "output_type": "stream",
     "text": [
      "len of dataset:  1065\n"
     ]
    },
    {
     "data": {
      "text/plain": [
       "700"
      ]
     },
     "execution_count": 202,
     "metadata": {},
     "output_type": "execute_result"
    }
   ],
   "source": [
    "# choose a number of time steps\n",
    "n_windows = 30\n",
    "n_steps = 1\n",
    "# convert into input/output\n",
    "# 資料只取到 2020\n",
    "dataset_ar = oridata[:][:1096]\n",
    "dataset_ar = np.array(dataset_ar)\n",
    "dataset_x, dataset_y = split_sequences_w(dataset_ar, n_steps, n_windows)\n",
    "\n",
    "print(\"len of dataset: \", len(dataset_x))\n",
    "trainsize = len(dataset_x)-(365//n_steps)\n",
    "trainsize"
   ]
  },
  {
   "cell_type": "code",
   "execution_count": 203,
   "metadata": {},
   "outputs": [
    {
     "name": "stdout",
     "output_type": "stream",
     "text": [
      "Train data shape:  (700, 30, 18) (700, 1)\n",
      "Test data shape:  (365, 30, 18) (365, 1)\n"
     ]
    }
   ],
   "source": [
    "### Test 2020 的情況\n",
    "\n",
    "Train_x = dataset_x[0:trainsize].astype('float32')\n",
    "Train_y = dataset_y[0:trainsize].astype('float32')\n",
    "Test_x = dataset_x[trainsize:].astype('float32')\n",
    "Test_y = dataset_y[trainsize:].astype('float32')\n",
    "\n",
    "print(\"Train data shape: \",  Train_x.shape, Train_y.shape)\n",
    "print(\"Test data shape: \",  Test_x.shape, Test_y.shape)"
   ]
  },
  {
   "cell_type": "code",
   "execution_count": 204,
   "metadata": {},
   "outputs": [],
   "source": [
    "Trainset = TensorDataset(torch.from_numpy(Train_x), torch.from_numpy(Train_y))\n",
    "Testset = TensorDataset(torch.from_numpy(Test_x), torch.from_numpy(Test_y))\n",
    "trainloader = DataLoader(Trainset, batch_size=32, shuffle=False, num_workers=0)\n",
    "testloader = DataLoader(Testset, batch_size=32, shuffle=False, num_workers=0)"
   ]
  },
  {
   "cell_type": "markdown",
   "metadata": {},
   "source": [
    "### 測試一下 learning rate"
   ]
  },
  {
   "cell_type": "code",
   "execution_count": 209,
   "metadata": {},
   "outputs": [],
   "source": [
    "lr_list = [1e-2, 1e-3, 1e-4, 1e-6, 1e-7]"
   ]
  },
  {
   "cell_type": "code",
   "execution_count": 210,
   "metadata": {},
   "outputs": [
    {
     "name": "stderr",
     "output_type": "stream",
     "text": [
      "100%|██████████| 1000/1000 [01:47<00:00,  9.32it/s]\n"
     ]
    },
    {
     "name": "stdout",
     "output_type": "stream",
     "text": [
      "lr = 0.01 best_step_cnt:  6500\n",
      "lr = 0.01 best_tra_rmse:  tensor(0.1951, device='cuda:0', grad_fn=<SqrtBackward0>)\n"
     ]
    },
    {
     "name": "stderr",
     "output_type": "stream",
     "text": [
      "100%|██████████| 1000/1000 [01:56<00:00,  8.56it/s]\n"
     ]
    },
    {
     "name": "stdout",
     "output_type": "stream",
     "text": [
      "lr = 0.001 best_step_cnt:  21900\n",
      "lr = 0.001 best_tra_rmse:  tensor(0.3612, device='cuda:0', grad_fn=<SqrtBackward0>)\n"
     ]
    },
    {
     "name": "stderr",
     "output_type": "stream",
     "text": [
      "100%|██████████| 1000/1000 [01:45<00:00,  9.44it/s]\n"
     ]
    },
    {
     "name": "stdout",
     "output_type": "stream",
     "text": [
      "lr = 0.0001 best_step_cnt:  15800\n",
      "lr = 0.0001 best_tra_rmse:  tensor(0.8105, device='cuda:0', grad_fn=<SqrtBackward0>)\n"
     ]
    },
    {
     "name": "stderr",
     "output_type": "stream",
     "text": [
      "100%|██████████| 1000/1000 [01:46<00:00,  9.37it/s]\n"
     ]
    },
    {
     "name": "stdout",
     "output_type": "stream",
     "text": [
      "lr = 1e-06 best_step_cnt:  0\n",
      "lr = 1e-06 best_tra_rmse:  20\n"
     ]
    },
    {
     "name": "stderr",
     "output_type": "stream",
     "text": [
      "100%|██████████| 1000/1000 [01:47<00:00,  9.33it/s]"
     ]
    },
    {
     "name": "stdout",
     "output_type": "stream",
     "text": [
      "lr = 1e-07 best_step_cnt:  0\n",
      "lr = 1e-07 best_tra_rmse:  20\n"
     ]
    },
    {
     "name": "stderr",
     "output_type": "stream",
     "text": [
      "\n"
     ]
    }
   ],
   "source": [
    "for lr in lr_list:\n",
    "    n_features = Train_x.shape[2]\n",
    "    # import train\n",
    "\n",
    "    model = CNN()\n",
    "    model.to(device)\n",
    "    optimizer = optim.Adam(model.parameters(), lr=lr)\n",
    "    epochs = 1000\n",
    "\n",
    "    ### train\n",
    "\n",
    "    best_step_cnt, best_tra_rmse, train_rmse_list, output_list = train(trainloader, model, optimizer, epochs)\n",
    "    \n",
    "    print(f\"lr = {lr} best_step_cnt: \",best_step_cnt)\n",
    "    print(f\"lr = {lr} best_tra_rmse: \",best_tra_rmse)"
   ]
  },
  {
   "cell_type": "markdown",
   "metadata": {},
   "source": [
    "#### 用新的 lr = 0.01 去再做一次"
   ]
  },
  {
   "cell_type": "code",
   "execution_count": 211,
   "metadata": {},
   "outputs": [
    {
     "name": "stderr",
     "output_type": "stream",
     "text": [
      "100%|██████████| 6000/6000 [11:39<00:00,  8.58it/s]"
     ]
    },
    {
     "name": "stdout",
     "output_type": "stream",
     "text": [
      "best_step_cnt:  42800\n",
      "best_tra_rmse:  tensor(0.0809, device='cuda:0', grad_fn=<SqrtBackward0>)\n"
     ]
    },
    {
     "name": "stderr",
     "output_type": "stream",
     "text": [
      "\n"
     ]
    }
   ],
   "source": [
    "n_features = Train_x.shape[2]\n",
    "# import train\n",
    "\n",
    "model = CNN()\n",
    "model.to(device)\n",
    "optimizer = optim.Adam(model.parameters(), lr=1e-2)\n",
    "epochs = 6000\n",
    "\n",
    "### train\n",
    "\n",
    "best_step_cnt, best_tra_rmse, train_rmse_list, output_list = train(trainloader, model, optimizer, epochs)\n",
    "\n",
    "print(\"best_step_cnt: \",best_step_cnt)\n",
    "print(\"best_tra_rmse: \",best_tra_rmse)"
   ]
  },
  {
   "cell_type": "code",
   "execution_count": 212,
   "metadata": {},
   "outputs": [
    {
     "name": "stdout",
     "output_type": "stream",
     "text": [
      "\n",
      " Test MSE: tensor(6.0494, device='cuda:0', grad_fn=<DivBackward0>)\n",
      "Test RMSE: tensor(2.4596, device='cuda:0', grad_fn=<SqrtBackward0>)\n",
      "Test MSPE: tensor(0.0083, device='cuda:0', grad_fn=<DivBackward0>)\n"
     ]
    }
   ],
   "source": [
    "# Test\n",
    "model = torch.load('best_model.pt')\n",
    "model.eval()\n",
    "MSE_test, RMSE_test, MSPE_test,outputlist = test(testloader, model)\n",
    "print(\"\\n\",\"Test MSE:\", MSE_test)\n",
    "print(\"Test RMSE:\", RMSE_test)\n",
    "print(\"Test MSPE:\", MSPE_test)"
   ]
  },
  {
   "cell_type": "code",
   "execution_count": 213,
   "metadata": {},
   "outputs": [
    {
     "data": {
      "image/png": "[encoded data removed]",
      "text/plain": [
       "<Figure size 864x432 with 1 Axes>"
      ]
     },
     "metadata": {
      "needs_background": "light"
     },
     "output_type": "display_data"
    }
   ],
   "source": [
    "output = []\n",
    "for i in outputlist:\n",
    "  for j in i:\n",
    "    j = float(j)\n",
    "    output.append(j)\n",
    "TestPlot(output,730)"
   ]
  },
  {
   "cell_type": "code",
   "execution_count": 214,
   "metadata": {},
   "outputs": [
    {
     "data": {
      "image/png": "[encoded data removed]",
      "text/plain": [
       "<Figure size 864x432 with 1 Axes>"
      ]
     },
     "metadata": {
      "needs_background": "light"
     },
     "output_type": "display_data"
    }
   ],
   "source": [
    "train_RMSE = []\n",
    "for i in train_rmse_list:\n",
    "  train_RMSE.append(float(i))\n",
    "trainingRMSE(train_RMSE)"
   ]
  },
  {
   "cell_type": "markdown",
   "metadata": {},
   "source": [
    "### 預測 2021 蛋價 windowsize = 30, step = 1,  time_unit = day\n",
    "#### 修改價格 Normalize, 資料一次看前30天預測下1天\n",
    "#### lr = 0.01"
   ]
  },
  {
   "cell_type": "code",
   "execution_count": 215,
   "metadata": {},
   "outputs": [
    {
     "name": "stdout",
     "output_type": "stream",
     "text": [
      "len of dataset:  1430\n"
     ]
    },
    {
     "data": {
      "text/plain": [
       "1065"
      ]
     },
     "execution_count": 215,
     "metadata": {},
     "output_type": "execute_result"
    }
   ],
   "source": [
    "# choose a number of time steps\n",
    "n_windows = 30\n",
    "n_steps = 1\n",
    "# convert into input/output\n",
    "# 資料只取到 2021\n",
    "dataset_ar = oridata[:][:1461]\n",
    "dataset_ar = np.array(dataset_ar)\n",
    "dataset_x, dataset_y = split_sequences_w(dataset_ar, n_steps, n_windows)\n",
    "\n",
    "print(\"len of dataset: \", len(dataset_x))\n",
    "trainsize = len(dataset_x)-(365//n_steps)\n",
    "trainsize"
   ]
  },
  {
   "cell_type": "code",
   "execution_count": 216,
   "metadata": {},
   "outputs": [
    {
     "name": "stdout",
     "output_type": "stream",
     "text": [
      "Train data shape:  (1065, 30, 18) (1065, 1)\n",
      "Test data shape:  (365, 30, 18) (365, 1)\n"
     ]
    }
   ],
   "source": [
    "### Test 2021 的情況\n",
    "\n",
    "Train_x = dataset_x[0:trainsize].astype('float32')\n",
    "Train_y = dataset_y[0:trainsize].astype('float32')\n",
    "Test_x = dataset_x[trainsize:].astype('float32')\n",
    "Test_y = dataset_y[trainsize:].astype('float32')\n",
    "\n",
    "print(\"Train data shape: \",  Train_x.shape, Train_y.shape)\n",
    "print(\"Test data shape: \",  Test_x.shape, Test_y.shape)"
   ]
  },
  {
   "cell_type": "code",
   "execution_count": 217,
   "metadata": {},
   "outputs": [],
   "source": [
    "Trainset = TensorDataset(torch.from_numpy(Train_x), torch.from_numpy(Train_y))\n",
    "Testset = TensorDataset(torch.from_numpy(Test_x), torch.from_numpy(Test_y))\n",
    "trainloader = DataLoader(Trainset, batch_size=32, shuffle=False, num_workers=0)\n",
    "testloader = DataLoader(Testset, batch_size=32, shuffle=False, num_workers=0)"
   ]
  },
  {
   "cell_type": "code",
   "execution_count": 218,
   "metadata": {},
   "outputs": [
    {
     "name": "stderr",
     "output_type": "stream",
     "text": [
      "100%|██████████| 6000/6000 [17:52<00:00,  5.59it/s]\n"
     ]
    },
    {
     "name": "stdout",
     "output_type": "stream",
     "text": [
      "best_step_cnt:  77700\n",
      "best_tra_rmse:  tensor(0.0756, device='cuda:0', grad_fn=<SqrtBackward0>)\n"
     ]
    }
   ],
   "source": [
    "n_features = Train_x.shape[2]\n",
    "# import train\n",
    "\n",
    "model = CNN()\n",
    "model.to(device)\n",
    "optimizer = optim.Adam(model.parameters(), lr=1e-2)\n",
    "epochs = 6000\n",
    "\n",
    "### train\n",
    "\n",
    "best_step_cnt, best_tra_rmse, train_rmse_list, output_list = train(trainloader, model, optimizer, epochs)\n",
    "\n",
    "print(\"best_step_cnt: \",best_step_cnt)\n",
    "print(\"best_tra_rmse: \",best_tra_rmse)"
   ]
  },
  {
   "cell_type": "code",
   "execution_count": 219,
   "metadata": {},
   "outputs": [
    {
     "name": "stdout",
     "output_type": "stream",
     "text": [
      "\n",
      " Test MSE: tensor(15.1138, device='cuda:0', grad_fn=<DivBackward0>)\n",
      "Test RMSE: tensor(3.8876, device='cuda:0', grad_fn=<SqrtBackward0>)\n",
      "Test MSPE: tensor(0.0168, device='cuda:0', grad_fn=<DivBackward0>)\n"
     ]
    }
   ],
   "source": [
    "# Test\n",
    "model = torch.load('best_model.pt')\n",
    "model.eval()\n",
    "MSE_test, RMSE_test, MSPE_test,outputlist = test(testloader, model)\n",
    "print(\"\\n\",\"Test MSE:\", MSE_test)\n",
    "print(\"Test RMSE:\", RMSE_test)\n",
    "print(\"Test MSPE:\", MSPE_test)"
   ]
  },
  {
   "cell_type": "code",
   "execution_count": 220,
   "metadata": {},
   "outputs": [
    {
     "data": {
      "image/png": "[encoded data removed]",
      "text/plain": [
       "<Figure size 864x432 with 1 Axes>"
      ]
     },
     "metadata": {
      "needs_background": "light"
     },
     "output_type": "display_data"
    }
   ],
   "source": [
    "output = []\n",
    "for i in outputlist:\n",
    "  for j in i:\n",
    "    j = float(j)\n",
    "    output.append(j)\n",
    "TestPlot(output,1066)"
   ]
  },
  {
   "cell_type": "code",
   "execution_count": 221,
   "metadata": {},
   "outputs": [
    {
     "data": {
      "image/png": "[encoded data removed]",
      "text/plain": [
       "<Figure size 864x432 with 1 Axes>"
      ]
     },
     "metadata": {
      "needs_background": "light"
     },
     "output_type": "display_data"
    }
   ],
   "source": [
    "train_RMSE = []\n",
    "for i in train_rmse_list:\n",
    "  train_RMSE.append(float(i))\n",
    "trainingRMSE(train_RMSE)"
   ]
  },
  {
   "cell_type": "markdown",
   "metadata": {},
   "source": [
    "### 預測 2022 蛋價 windowsize = 30, step = 1,  time_unit = day\n",
    "#### 修改價格 Normalize, 資料一次看前30天預測下1天\n",
    "#### lr = 0.01"
   ]
  },
  {
   "cell_type": "code",
   "execution_count": 223,
   "metadata": {},
   "outputs": [
    {
     "name": "stdout",
     "output_type": "stream",
     "text": [
      "len of dataset:  1795\n"
     ]
    },
    {
     "data": {
      "text/plain": [
       "1430"
      ]
     },
     "execution_count": 223,
     "metadata": {},
     "output_type": "execute_result"
    }
   ],
   "source": [
    "# choose a number of time steps\n",
    "n_windows = 30\n",
    "n_steps = 1\n",
    "# convert into input/output\n",
    "# 資料取到 2022\n",
    "dataset_ar = oridata[:][:]\n",
    "dataset_ar = np.array(dataset_ar)\n",
    "dataset_x, dataset_y = split_sequences_w(dataset_ar, n_steps, n_windows)\n",
    "\n",
    "print(\"len of dataset: \", len(dataset_x))\n",
    "trainsize = len(dataset_x)-(365//n_steps)\n",
    "trainsize"
   ]
  },
  {
   "cell_type": "code",
   "execution_count": 224,
   "metadata": {},
   "outputs": [
    {
     "name": "stdout",
     "output_type": "stream",
     "text": [
      "Train data shape:  (1430, 30, 18) (1430, 1)\n",
      "Test data shape:  (365, 30, 18) (365, 1)\n"
     ]
    }
   ],
   "source": [
    "### Test 2022 的情況\n",
    "\n",
    "Train_x = dataset_x[0:trainsize].astype('float32')\n",
    "Train_y = dataset_y[0:trainsize].astype('float32')\n",
    "Test_x = dataset_x[trainsize:].astype('float32')\n",
    "Test_y = dataset_y[trainsize:].astype('float32')\n",
    "\n",
    "print(\"Train data shape: \",  Train_x.shape, Train_y.shape)\n",
    "print(\"Test data shape: \",  Test_x.shape, Test_y.shape)"
   ]
  },
  {
   "cell_type": "code",
   "execution_count": 225,
   "metadata": {},
   "outputs": [],
   "source": [
    "Trainset = TensorDataset(torch.from_numpy(Train_x), torch.from_numpy(Train_y))\n",
    "Testset = TensorDataset(torch.from_numpy(Test_x), torch.from_numpy(Test_y))\n",
    "trainloader = DataLoader(Trainset, batch_size=32, shuffle=False, num_workers=0)\n",
    "testloader = DataLoader(Testset, batch_size=32, shuffle=False, num_workers=0)"
   ]
  },
  {
   "cell_type": "code",
   "execution_count": 226,
   "metadata": {},
   "outputs": [
    {
     "name": "stderr",
     "output_type": "stream",
     "text": [
      "100%|██████████| 6000/6000 [23:32<00:00,  4.25it/s]"
     ]
    },
    {
     "name": "stdout",
     "output_type": "stream",
     "text": [
      "best_step_cnt:  217900\n",
      "best_tra_rmse:  tensor(0.0795, device='cuda:0', grad_fn=<SqrtBackward0>)\n"
     ]
    },
    {
     "name": "stderr",
     "output_type": "stream",
     "text": [
      "\n"
     ]
    }
   ],
   "source": [
    "n_features = Train_x.shape[2]\n",
    "# import train\n",
    "\n",
    "model = CNN()\n",
    "model.to(device)\n",
    "optimizer = optim.Adam(model.parameters(), lr=1e-2)\n",
    "epochs = 6000\n",
    "\n",
    "### train\n",
    "\n",
    "best_step_cnt, best_tra_rmse, train_rmse_list, output_list = train(trainloader, model, optimizer, epochs)\n",
    "\n",
    "print(\"best_step_cnt: \",best_step_cnt)\n",
    "print(\"best_tra_rmse: \",best_tra_rmse)"
   ]
  },
  {
   "cell_type": "code",
   "execution_count": 227,
   "metadata": {},
   "outputs": [
    {
     "name": "stdout",
     "output_type": "stream",
     "text": [
      "\n",
      " Test MSE: tensor(20.4726, device='cuda:0', grad_fn=<DivBackward0>)\n",
      "Test RMSE: tensor(4.5247, device='cuda:0', grad_fn=<SqrtBackward0>)\n",
      "Test MSPE: tensor(0.0123, device='cuda:0', grad_fn=<DivBackward0>)\n"
     ]
    }
   ],
   "source": [
    "# Test\n",
    "model = torch.load('best_model.pt')\n",
    "model.eval()\n",
    "MSE_test, RMSE_test, MSPE_test,outputlist = test(testloader, model)\n",
    "print(\"\\n\",\"Test MSE:\", MSE_test)\n",
    "print(\"Test RMSE:\", RMSE_test)\n",
    "print(\"Test MSPE:\", MSPE_test)"
   ]
  },
  {
   "cell_type": "code",
   "execution_count": 229,
   "metadata": {},
   "outputs": [
    {
     "data": {
      "image/png": "[encoded data removed]",
      "text/plain": [
       "<Figure size 864x432 with 1 Axes>"
      ]
     },
     "metadata": {
      "needs_background": "light"
     },
     "output_type": "display_data"
    }
   ],
   "source": [
    "output = []\n",
    "for i in outputlist:\n",
    "  for j in i:\n",
    "    j = float(j)\n",
    "    output.append(j)\n",
    "TestPlot(output,1461)"
   ]
  },
  {
   "cell_type": "code",
   "execution_count": 230,
   "metadata": {},
   "outputs": [
    {
     "data": {
      "image/png": "[encoded data removed]",
      "text/plain": [
       "<Figure size 864x432 with 1 Axes>"
      ]
     },
     "metadata": {
      "needs_background": "light"
     },
     "output_type": "display_data"
    }
   ],
   "source": [
    "train_RMSE = []\n",
    "for i in train_rmse_list:\n",
    "  train_RMSE.append(float(i))\n",
    "trainingRMSE(train_RMSE)"
   ]
  },
  {
   "cell_type": "markdown",
   "metadata": {},
   "source": [
    "### 預測 2020 蛋價 windowsize = 30, step = 1,  time_unit = day\n",
    "#### 資料有增加, 價格 Normalize, 一次看前30天預測下1天\n",
    "#### lr = 0.01"
   ]
  },
  {
   "cell_type": "code",
   "execution_count": 269,
   "metadata": {},
   "outputs": [
    {
     "name": "stdout",
     "output_type": "stream",
     "text": [
      "len of dataset:  884\n"
     ]
    },
    {
     "data": {
      "text/plain": [
       "519"
      ]
     },
     "execution_count": 269,
     "metadata": {},
     "output_type": "execute_result"
    }
   ],
   "source": [
    "# choose a number of time steps\n",
    "n_windows = 30\n",
    "n_steps = 1\n",
    "# convert into input/output\n",
    "# 資料只取到 2020\n",
    "dataset_ar = oridata_ex[:][:915]\n",
    "dataset_ar = np.array(dataset_ar)\n",
    "dataset_x, dataset_y = split_sequences_w(dataset_ar, n_steps, n_windows)\n",
    "\n",
    "print(\"len of dataset: \", len(dataset_x))\n",
    "trainsize = len(dataset_x)-(365//n_steps)\n",
    "trainsize"
   ]
  },
  {
   "cell_type": "code",
   "execution_count": 270,
   "metadata": {},
   "outputs": [
    {
     "name": "stdout",
     "output_type": "stream",
     "text": [
      "Train data shape:  (519, 30, 96) (519, 1)\n",
      "Test data shape:  (365, 30, 96) (365, 1)\n"
     ]
    }
   ],
   "source": [
    "### Test 2020 的情況\n",
    "\n",
    "Train_x = dataset_x[0:trainsize].astype('float32')\n",
    "Train_y = dataset_y[0:trainsize].astype('float32')\n",
    "Test_x = dataset_x[trainsize:].astype('float32')\n",
    "Test_y = dataset_y[trainsize:].astype('float32')\n",
    "\n",
    "print(\"Train data shape: \",  Train_x.shape, Train_y.shape)\n",
    "print(\"Test data shape: \",  Test_x.shape, Test_y.shape)"
   ]
  },
  {
   "cell_type": "code",
   "execution_count": 271,
   "metadata": {},
   "outputs": [],
   "source": [
    "Trainset = TensorDataset(torch.from_numpy(Train_x), torch.from_numpy(Train_y))\n",
    "Testset = TensorDataset(torch.from_numpy(Test_x), torch.from_numpy(Test_y))\n",
    "trainloader = DataLoader(Trainset, batch_size=32, shuffle=False, num_workers=0)\n",
    "testloader = DataLoader(Testset, batch_size=32, shuffle=False, num_workers=0)"
   ]
  },
  {
   "cell_type": "code",
   "execution_count": 272,
   "metadata": {},
   "outputs": [
    {
     "name": "stderr",
     "output_type": "stream",
     "text": [
      "100%|██████████| 6000/6000 [08:55<00:00, 11.19it/s]\n"
     ]
    },
    {
     "name": "stdout",
     "output_type": "stream",
     "text": [
      "best_step_cnt:  76500\n",
      "best_tra_rmse:  tensor(0.0413, device='cuda:0', grad_fn=<SqrtBackward0>)\n"
     ]
    }
   ],
   "source": [
    "n_features = Train_x.shape[2]\n",
    "# import train\n",
    "\n",
    "model = CNN()\n",
    "model.to(device)\n",
    "optimizer = optim.Adam(model.parameters(), lr=1e-2)\n",
    "epochs = 6000\n",
    "\n",
    "### train\n",
    "\n",
    "best_step_cnt, best_tra_rmse, train_rmse_list, output_list = train(trainloader, model, optimizer, epochs)\n",
    "\n",
    "print(\"best_step_cnt: \",best_step_cnt)\n",
    "print(\"best_tra_rmse: \",best_tra_rmse)"
   ]
  },
  {
   "cell_type": "code",
   "execution_count": 273,
   "metadata": {},
   "outputs": [
    {
     "name": "stdout",
     "output_type": "stream",
     "text": [
      "\n",
      " Test MSE: tensor(6.6895, device='cuda:0', grad_fn=<DivBackward0>)\n",
      "Test RMSE: tensor(2.5864, device='cuda:0', grad_fn=<SqrtBackward0>)\n",
      "Test MSPE: tensor(0.0120, device='cuda:0', grad_fn=<DivBackward0>)\n"
     ]
    }
   ],
   "source": [
    "# Test\n",
    "model = torch.load('best_model.pt')\n",
    "model.eval()\n",
    "MSE_test, RMSE_test, MSPE_test,outputlist = test(testloader, model)\n",
    "print(\"\\n\",\"Test MSE:\", MSE_test)\n",
    "print(\"Test RMSE:\", RMSE_test)\n",
    "print(\"Test MSPE:\", MSPE_test)"
   ]
  },
  {
   "cell_type": "code",
   "execution_count": 274,
   "metadata": {},
   "outputs": [
    {
     "data": {
      "image/png": "[encoded data removed]",
      "text/plain": [
       "<Figure size 864x432 with 1 Axes>"
      ]
     },
     "metadata": {
      "needs_background": "light"
     },
     "output_type": "display_data"
    }
   ],
   "source": [
    "output = []\n",
    "for i in outputlist:\n",
    "  for j in i:\n",
    "    j = float(j)\n",
    "    output.append(j)\n",
    "TestPlot(output,730)"
   ]
  },
  {
   "cell_type": "markdown",
   "metadata": {},
   "source": [
    "### 預測 2021 蛋價 windowsize = 30, step = 1,  time_unit = day\n",
    "#### 資料有增加, 價格 Normalize, 一次看前30天預測下1天\n",
    "#### lr = 0.01"
   ]
  },
  {
   "cell_type": "code",
   "execution_count": 276,
   "metadata": {},
   "outputs": [
    {
     "name": "stdout",
     "output_type": "stream",
     "text": [
      "len of dataset:  1249\n"
     ]
    },
    {
     "data": {
      "text/plain": [
       "884"
      ]
     },
     "execution_count": 276,
     "metadata": {},
     "output_type": "execute_result"
    }
   ],
   "source": [
    "# choose a number of time steps\n",
    "n_windows = 30\n",
    "n_steps = 1\n",
    "# convert into input/output\n",
    "# 資料只取到 2021\n",
    "dataset_ar = oridata_ex[:][:1280]\n",
    "dataset_ar = np.array(dataset_ar)\n",
    "dataset_x, dataset_y = split_sequences_w(dataset_ar, n_steps, n_windows)\n",
    "\n",
    "print(\"len of dataset: \", len(dataset_x))\n",
    "trainsize = len(dataset_x)-(365//n_steps)\n",
    "trainsize"
   ]
  },
  {
   "cell_type": "code",
   "execution_count": 277,
   "metadata": {},
   "outputs": [
    {
     "name": "stdout",
     "output_type": "stream",
     "text": [
      "Train data shape:  (884, 30, 96) (884, 1)\n",
      "Test data shape:  (365, 30, 96) (365, 1)\n"
     ]
    }
   ],
   "source": [
    "### Test 2021 的情況\n",
    "\n",
    "Train_x = dataset_x[0:trainsize].astype('float32')\n",
    "Train_y = dataset_y[0:trainsize].astype('float32')\n",
    "Test_x = dataset_x[trainsize:].astype('float32')\n",
    "Test_y = dataset_y[trainsize:].astype('float32')\n",
    "\n",
    "print(\"Train data shape: \",  Train_x.shape, Train_y.shape)\n",
    "print(\"Test data shape: \",  Test_x.shape, Test_y.shape)"
   ]
  },
  {
   "cell_type": "code",
   "execution_count": 278,
   "metadata": {},
   "outputs": [],
   "source": [
    "Trainset = TensorDataset(torch.from_numpy(Train_x), torch.from_numpy(Train_y))\n",
    "Testset = TensorDataset(torch.from_numpy(Test_x), torch.from_numpy(Test_y))\n",
    "trainloader = DataLoader(Trainset, batch_size=32, shuffle=False, num_workers=0)\n",
    "testloader = DataLoader(Testset, batch_size=32, shuffle=False, num_workers=0)"
   ]
  },
  {
   "cell_type": "code",
   "execution_count": 279,
   "metadata": {},
   "outputs": [
    {
     "name": "stderr",
     "output_type": "stream",
     "text": [
      "100%|██████████| 6000/6000 [14:48<00:00,  6.76it/s]"
     ]
    },
    {
     "name": "stdout",
     "output_type": "stream",
     "text": [
      "best_step_cnt:  98200\n",
      "best_tra_rmse:  tensor(0.0099, device='cuda:0', grad_fn=<SqrtBackward0>)\n"
     ]
    },
    {
     "name": "stderr",
     "output_type": "stream",
     "text": [
      "\n"
     ]
    }
   ],
   "source": [
    "n_features = Train_x.shape[2]\n",
    "# import train\n",
    "\n",
    "model = CNN()\n",
    "model.to(device)\n",
    "optimizer = optim.Adam(model.parameters(), lr=1e-2)\n",
    "epochs = 6000\n",
    "\n",
    "### train\n",
    "\n",
    "best_step_cnt, best_tra_rmse, train_rmse_list, output_list = train(trainloader, model, optimizer, epochs)\n",
    "\n",
    "print(\"best_step_cnt: \",best_step_cnt)\n",
    "print(\"best_tra_rmse: \",best_tra_rmse)"
   ]
  },
  {
   "cell_type": "code",
   "execution_count": 280,
   "metadata": {},
   "outputs": [
    {
     "name": "stdout",
     "output_type": "stream",
     "text": [
      "\n",
      " Test MSE: tensor(14.3581, device='cuda:0', grad_fn=<DivBackward0>)\n",
      "Test RMSE: tensor(3.7892, device='cuda:0', grad_fn=<SqrtBackward0>)\n",
      "Test MSPE: tensor(0.0190, device='cuda:0', grad_fn=<DivBackward0>)\n"
     ]
    }
   ],
   "source": [
    "# Test\n",
    "model = torch.load('best_model.pt')\n",
    "model.eval()\n",
    "MSE_test, RMSE_test, MSPE_test,outputlist = test(testloader, model)\n",
    "print(\"\\n\",\"Test MSE:\", MSE_test)\n",
    "print(\"Test RMSE:\", RMSE_test)\n",
    "print(\"Test MSPE:\", MSPE_test)"
   ]
  },
  {
   "cell_type": "code",
   "execution_count": 281,
   "metadata": {},
   "outputs": [
    {
     "data": {
      "image/png": "[encoded data removed]",
      "text/plain": [
       "<Figure size 864x432 with 1 Axes>"
      ]
     },
     "metadata": {
      "needs_background": "light"
     },
     "output_type": "display_data"
    }
   ],
   "source": [
    "output = []\n",
    "for i in outputlist:\n",
    "  for j in i:\n",
    "    j = float(j)\n",
    "    output.append(j)\n",
    "TestPlot(output,1066)"
   ]
  },
  {
   "cell_type": "code",
   "execution_count": 282,
   "metadata": {},
   "outputs": [
    {
     "data": {
      "image/png": "[encoded data removed]",
      "text/plain": [
       "<Figure size 864x432 with 1 Axes>"
      ]
     },
     "metadata": {
      "needs_background": "light"
     },
     "output_type": "display_data"
    }
   ],
   "source": [
    "train_RMSE = []\n",
    "for i in train_rmse_list:\n",
    "  train_RMSE.append(float(i))\n",
    "trainingRMSE(train_RMSE)"
   ]
  },
  {
   "cell_type": "markdown",
   "metadata": {},
   "source": [
    "### 預測 2022 蛋價 windowsize = 30, step = 1,  time_unit = day\n",
    "#### 資料有增加, 價格 Normalize, 一次看前30天預測下1天\n",
    "#### lr = 0.01"
   ]
  },
  {
   "cell_type": "code",
   "execution_count": 291,
   "metadata": {},
   "outputs": [
    {
     "name": "stdout",
     "output_type": "stream",
     "text": [
      "len of dataset:  1614\n"
     ]
    },
    {
     "data": {
      "text/plain": [
       "1249"
      ]
     },
     "execution_count": 291,
     "metadata": {},
     "output_type": "execute_result"
    }
   ],
   "source": [
    "# choose a number of time steps\n",
    "n_windows = 30\n",
    "n_steps = 1\n",
    "# convert into input/output\n",
    "# 資料只取到 2022\n",
    "dataset_ar = oridata_ex[:][:]\n",
    "dataset_ar = np.array(dataset_ar)\n",
    "dataset_x, dataset_y = split_sequences_w(dataset_ar, n_steps, n_windows)\n",
    "\n",
    "print(\"len of dataset: \", len(dataset_x))\n",
    "trainsize = len(dataset_x)-(365//n_steps)\n",
    "trainsize"
   ]
  },
  {
   "cell_type": "code",
   "execution_count": 292,
   "metadata": {},
   "outputs": [
    {
     "name": "stdout",
     "output_type": "stream",
     "text": [
      "Train data shape:  (1249, 30, 96) (1249, 1)\n",
      "Test data shape:  (365, 30, 96) (365, 1)\n"
     ]
    }
   ],
   "source": [
    "### Test 2022 的情況\n",
    "\n",
    "Train_x = dataset_x[0:trainsize].astype('float32')\n",
    "Train_y = dataset_y[0:trainsize].astype('float32')\n",
    "Test_x = dataset_x[trainsize:].astype('float32')\n",
    "Test_y = dataset_y[trainsize:].astype('float32')\n",
    "\n",
    "print(\"Train data shape: \",  Train_x.shape, Train_y.shape)\n",
    "print(\"Test data shape: \",  Test_x.shape, Test_y.shape)"
   ]
  },
  {
   "cell_type": "code",
   "execution_count": 293,
   "metadata": {},
   "outputs": [],
   "source": [
    "Trainset = TensorDataset(torch.from_numpy(Train_x), torch.from_numpy(Train_y))\n",
    "Testset = TensorDataset(torch.from_numpy(Test_x), torch.from_numpy(Test_y))\n",
    "trainloader = DataLoader(Trainset, batch_size=32, shuffle=False, num_workers=0)\n",
    "testloader = DataLoader(Testset, batch_size=32, shuffle=False, num_workers=0)"
   ]
  },
  {
   "cell_type": "code",
   "execution_count": 294,
   "metadata": {},
   "outputs": [
    {
     "name": "stderr",
     "output_type": "stream",
     "text": [
      "100%|██████████| 6000/6000 [19:26<00:00,  5.14it/s]"
     ]
    },
    {
     "name": "stdout",
     "output_type": "stream",
     "text": [
      "best_step_cnt:  70600\n",
      "best_tra_rmse:  tensor(0.0005, device='cuda:0', grad_fn=<SqrtBackward0>)\n"
     ]
    },
    {
     "name": "stderr",
     "output_type": "stream",
     "text": [
      "\n"
     ]
    }
   ],
   "source": [
    "n_features = Train_x.shape[2]\n",
    "# import train\n",
    "\n",
    "model = CNN()\n",
    "model.to(device)\n",
    "optimizer = optim.Adam(model.parameters(), lr=1e-2)\n",
    "epochs = 6000\n",
    "\n",
    "### train\n",
    "\n",
    "best_step_cnt, best_tra_rmse, train_rmse_list, output_list = train(trainloader, model, optimizer, epochs)\n",
    "\n",
    "print(\"best_step_cnt: \",best_step_cnt)\n",
    "print(\"best_tra_rmse: \",best_tra_rmse)"
   ]
  },
  {
   "cell_type": "code",
   "execution_count": 295,
   "metadata": {},
   "outputs": [
    {
     "name": "stdout",
     "output_type": "stream",
     "text": [
      "\n",
      " Test MSE: tensor(28.4799, device='cuda:0', grad_fn=<DivBackward0>)\n",
      "Test RMSE: tensor(5.3367, device='cuda:0', grad_fn=<SqrtBackward0>)\n",
      "Test MSPE: tensor(0.0169, device='cuda:0', grad_fn=<DivBackward0>)\n"
     ]
    }
   ],
   "source": [
    "# Test\n",
    "model = torch.load('best_model.pt')\n",
    "model.eval()\n",
    "MSE_test, RMSE_test, MSPE_test,outputlist = test(testloader, model)\n",
    "print(\"\\n\",\"Test MSE:\", MSE_test)\n",
    "print(\"Test RMSE:\", RMSE_test)\n",
    "print(\"Test MSPE:\", MSPE_test)"
   ]
  },
  {
   "cell_type": "code",
   "execution_count": 296,
   "metadata": {},
   "outputs": [
    {
     "data": {
      "image/png": "[encoded data removed]",
      "text/plain": [
       "<Figure size 864x432 with 1 Axes>"
      ]
     },
     "metadata": {
      "needs_background": "light"
     },
     "output_type": "display_data"
    }
   ],
   "source": [
    "output = []\n",
    "for i in outputlist:\n",
    "  for j in i:\n",
    "    j = float(j)\n",
    "    output.append(j)\n",
    "TestPlot(output,1461)"
   ]
  },
  {
   "cell_type": "code",
   "execution_count": 297,
   "metadata": {},
   "outputs": [
    {
     "data": {
      "image/png": "[encoded data removed]",
      "text/plain": [
       "<Figure size 864x432 with 1 Axes>"
      ]
     },
     "metadata": {
      "needs_background": "light"
     },
     "output_type": "display_data"
    }
   ],
   "source": [
    "train_RMSE = []\n",
    "for i in train_rmse_list:\n",
    "  train_RMSE.append(float(i))\n",
    "trainingRMSE(train_RMSE)"
   ]
  },
  {
   "cell_type": "code",
   "execution_count": null,
   "metadata": {},
   "outputs": [],
   "source": []
  }
 ],
 "metadata": {
  "accelerator": "GPU",
  "colab": {
   "gpuType": "T4",
   "provenance": []
  },
  "kernelspec": {
   "display_name": "Python 3",
   "language": "python",
   "name": "python3"
  },
  "language_info": {
   "codemirror_mode": {
    "name": "ipython",
    "version": 3
   },
   "file_extension": ".py",
   "mimetype": "text/x-python",
   "name": "python",
   "nbconvert_exporter": "python",
   "pygments_lexer": "ipython3",
   "version": "3.6.9"
  }
 },
 "nbformat": 4,
 "nbformat_minor": 5
}
